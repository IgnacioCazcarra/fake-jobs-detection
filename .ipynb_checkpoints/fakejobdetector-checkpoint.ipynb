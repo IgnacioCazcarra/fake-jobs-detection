{
 "cells": [
  {
   "cell_type": "code",
   "execution_count": 174,
   "metadata": {},
   "outputs": [],
   "source": [
    "from pyspark.sql import SparkSession\n",
    "import pyspark.sql.functions as F\n",
    "\n",
    "spark = SparkSession.builder.appName(\"Fake-job-prediction\").getOrCreate()"
   ]
  },
  {
   "cell_type": "code",
   "execution_count": 175,
   "metadata": {},
   "outputs": [
    {
     "data": {
      "text/html": [
       "<style>\n",
       "div.output_area pre {\n",
       "    white-space: pre;\n",
       "}\n",
       "</style>\n"
      ],
      "text/plain": [
       "<IPython.core.display.HTML object>"
      ]
     },
     "metadata": {},
     "output_type": "display_data"
    }
   ],
   "source": [
    "%%html\n",
    "<style>\n",
    "div.output_area pre {\n",
    "    white-space: pre;\n",
    "}\n",
    "</style>"
   ]
  },
  {
   "cell_type": "code",
   "execution_count": 215,
   "metadata": {
    "scrolled": true
   },
   "outputs": [
    {
     "name": "stdout",
     "output_type": "stream",
     "text": [
      "+------+--------------------+--------------------+--------------------+-------------+--------------------+--------------------+--------------------+--------------------+-------------+----------------+-------------+---------------+-------------------+--------------------+--------------------+--------------------+----------+\n",
      "|job_id|               title|            location|          department| salary_range|     company_profile|         description|        requirements|            benefits|telecommuting|has_company_logo|has_questions|employment_type|required_experience|  required_education|            industry|            function|fraudulent|\n",
      "+------+--------------------+--------------------+--------------------+-------------+--------------------+--------------------+--------------------+--------------------+-------------+----------------+-------------+---------------+-------------------+--------------------+--------------------+--------------------+----------+\n",
      "|     1|    Marketing Intern|    US, NY, New York|           Marketing|         null|We're Food52, and...|Food52, a fast-gr...|Experience with c...|                null|            0|               1|            0|          Other|         Internship|                null|                null|           Marketing|         0|\n",
      "|     2|Customer Service ...|      NZ, , Auckland|             Success|         null|90 Seconds, the w...|Organised - Focus...|What we expect fr...|What you will get...|            0|               1|            0|      Full-time|     Not Applicable|                null|Marketing and Adv...|    Customer Service|         0|\n",
      "|     3|Commissioning Mac...|       US, IA, Wever|                null|         null|Valor Services pr...|Our client, locat...|Implement pre-com...|                null|            0|               1|            0|           null|               null|                null|                null|                null|         0|\n",
      "|     4|Account Executive...|  US, DC, Washington|               Sales|         null|Our passion for i...|THE COMPANY: ESRI...|EDUCATION: Bachel...|Our culture is an...|            0|               1|            0|      Full-time|   Mid-Senior level|   Bachelor's Degree|   Computer Software|               Sales|         0|\n",
      "|     5| Bill Review Manager|  US, FL, Fort Worth|                null|         null|SpotSource Soluti...|JOB TITLE: Itemiz...|QUALIFICATIONS:RN...|Full Benefits Off...|            0|               1|            1|      Full-time|   Mid-Senior level|   Bachelor's Degree|Hospital & Health...|Health Care Provider|         0|\n",
      "|     6|    Accounting Clerk|            US, MD, |                null|         null|                null|Job OverviewApex ...|                null|                null|            0|               0|            0|           null|               null|                null|                null|                null|         0|\n",
      "|     7|Head of Content (...|      DE, BE, Berlin|          ANDROIDPIT|  20000-28000|Founded in 2009, ...|Your Responsibili...|Your Know-How:   ...|Your Benefits: Be...|            0|               1|            1|      Full-time|   Mid-Senior level|     Master's Degree|        Online Media|          Management|         0|\n",
      "|     8|Lead Guest Servic...|US, CA, San Franc...|                null|         null|Airenvy’s mission...|Who is Airenvy?He...|Experience with C...|Competitive Pay. ...|            0|               1|            1|           null|               null|                null|                null|                null|         0|\n",
      "|     9|          HP BSM SME|   US, FL, Pensacola|                null|         null|Solutions3 is a w...|Implementation/Co...|MUST BE A US CITI...|                null|            0|               1|            1|      Full-time|          Associate|                null|Information Techn...|                null|         0|\n",
      "|    10|Customer Service ...|     US, AZ, Phoenix|                null|         null|Novitex Enterpris...|The Customer Serv...|Minimum Requireme...|                null|            0|               1|            0|      Part-time|        Entry level|High School or eq...|  Financial Services|    Customer Service|         0|\n",
      "|    11|ASP.net Developer...| US, NJ, Jersey City|                null|100000-120000|                null|Position : #URL_8...|Position : #URL_8...|Benefits - FullBo...|            0|               0|            0|      Full-time|   Mid-Senior level|   Bachelor's Degree|Information Techn...|Information Techn...|         0|\n",
      "|    12|Talent Sourcer (6...|     GB, LND, London|                  HR|         null|Want to build a 2...|TransferWise is t...|We’re looking for...|You will join one...|            0|               1|            0|           null|               null|                null|                null|                null|         0|\n",
      "|    13|Applications Deve...|    US, CT, Stamford|                null|         null|Novitex Enterpris...|The Applications ...|Requirements:4 – ...|                null|            0|               1|            0|      Full-time|          Associate|   Bachelor's Degree|Management Consul...|Information Techn...|         0|\n",
      "|    14|          Installers|     US, FL, Orlando|                null|         null|Growing event pro...|Event Industry In...|Valid driver's li...|                null|            0|               1|            1|      Full-time|     Not Applicable|         Unspecified|     Events Services|               Other|         0|\n",
      "|    15|Account Executive...|     AU, NSW, Sydney|               Sales|         null|Adthena is the UK...|Are you intereste...|You’ll need to be...|In return we'll p...|            0|               1|            0|      Full-time|          Associate|   Bachelor's Degree|            Internet|               Sales|         0|\n",
      "|    16|VP of Sales - Vau...|   SG, 01, Singapore|               Sales|120000-150000|Jungle Ventures i...|About Vault Drago...|Key Superpowers3-...|Basic: SGD 120,00...|            0|               1|            1|      Full-time|          Executive|   Bachelor's Degree| Facilities Services|               Sales|         0|\n",
      "|    17| Hands-On QA Leader |IL, , Tel Aviv, I...|                 R&D|         null|At HoneyBook we’r...|We are looking fo...|Previous experien...|                null|            0|               1|            0|      Full-time|   Mid-Senior level|                null|            Internet|         Engineering|         0|\n",
      "|    18|Southend-on-Sea T...|GB, SOS, Southend...|                null|         null|Established on th...|Government fundin...|16-18 year olds o...|   Career prospects.|            0|               1|            1|           null|               null|                null|                null|                null|         0|\n",
      "|    19|     Visual Designer|    US, NY, New York|                null|         null|Kettle is an inde...|Kettle is hiring ...|                null|                null|            0|               1|            0|           null|               null|                null|                null|                null|         0|\n",
      "|    20|Process Controls ...|US, PA, USA North...|                null|         null|We Provide Full T...|Experienced Proce...|Must have 5 or mo...|                null|            0|               0|            0|      Full-time|               null|                null|                null|                null|         0|\n",
      "|    21| Marketing Assistant|      US, TX, Austin|                null|         null|IntelliBright was...|IntelliBright is ...|Job RequirementsA...|                null|            0|               1|            0|           null|               null|                null|                null|           Marketing|         0|\n",
      "|    22|Front End Develop...|     NZ, N, Auckland|                null|         null|Frustrated with t...|Want to be part o...|You will most lik...|You will be part ...|            0|               1|            0|      Full-time|   Mid-Senior level|     Master's Degree|Consumer Electronics|         Engineering|         0|\n",
      "|    23| Engagement Manager |              AE, , |          Engagement|         null|Upstream’s missio...|The position repo...|RequirementsThe i...|Salary &amp; Bene...|            0|               1|            1|      Full-time|   Mid-Senior level|   Bachelor's Degree|  Telecommunications|               Sales|         0|\n",
      "|    24|Vice President, S...|    US, CA, Carlsbad|  Businessfriend.com|100000-120000|WDM Group is an i...|#URL_eda2500ddced...|Job Requirements:...|Businessfriend wi...|            0|               1|            0|      Full-time|          Executive|         Unspecified|            Internet|               Sales|         0|\n",
      "|    25|   Customer Service |     GB, LND, London|                null|         null|                null|We are a canary w...|                null|                null|            0|               0|            0|           null|               null|                null|                null|                null|         0|\n",
      "|    26|H1B SPONSOR FOR L...|   US, NY, New York |                null|         null|i28 Technologies ...|Hello,Wish you ar...|JAVA, .NET, SQL, ...|                null|            0|               1|            1|           null|               null|                null|                null|                null|         0|\n",
      "|    27|      Marketing Exec|              SG, , |           Marketing|         null|If working in a c...|We are currently ...|This position is ...|We are looking fo...|            0|               1|            0|      Full-time|          Associate|                null|        Online Media|           Marketing|         0|\n",
      "|    28|HAAD/DHA Licensed...|    AE, AZ, Abudhabi|             Medical|         null|We the Medical Re...|HAAD/DHA Licensed...|RequirementsEndoc...|Our client is one...|            0|               1|            0|      Full-time|          Associate|     Master's Degree|Hospital & Health...|Health Care Provider|         0|\n",
      "|    29|Talent Management...|   US, MO, St. Louis|                null|         null|We Provide Full T...|(We have more tha...|                null|                null|            0|               0|            0|      Full-time|               null|                null|Management Consul...|                null|         0|\n",
      "|    30|Customer Service ...|     CA, ON, Toronto|                null|         null|Novitex Enterpris...|The Customer Serv...|Minimum Requireme...|                null|            0|               1|            0|      Full-time|        Entry level|High School or eq...|   Consumer Services|      Administrative|         0|\n",
      "|    31|Customer Service ...|     US, MA, Waltham|                null|         null|Novitex Enterpris...|The Customer Serv...|Qualifications:Mi...|                null|            0|               1|            0|      Full-time|        Entry level|High School or eq...|   Computer Software|    Customer Service|         0|\n",
      "|    32|Software Applicat...|            US, KS, |                null|  50000-65000|                null|Day to Day-Instal...|Must Have's3+ yea...|Medical, Dental, ...|            0|               1|            0|      Full-time|          Associate|         Unspecified|   Computer Software|         Engineering|         0|\n",
      "|    33| Craftsman Associate|     US, WA, Everett|               Field|         null|We are an award-w...|Construction: Ent...|Requirements:  (P...|Benefits:  Hourly...|            0|               1|            1|      Full-time|        Entry level|         Unspecified|        Construction|               Other|         0|\n",
      "|    34| Completion Engineer|   US, CA, San Ramon|                null|         null|Valor Services pr...|About the Company...|Education:Bachelo...|                null|            0|               1|            1|      Full-time|               null|   Bachelor's Degree|        Oil & Energy|         Engineering|         0|\n",
      "|    35|I Want To Work At...|           GB, LND, |                 All|         null|At Karmarama we h...|Didn't see a role...|Hey!Thanks again ...|                null|            0|               1|            1|      Full-time|               null|                null|Marketing and Adv...|                null|         0|\n",
      "|    36|English Teacher A...|US, NY, Saint Bon...|                null|         null|We help teachers ...|Play with kids, g...|University degree...| See job description|            0|               1|            1|       Contract|               null|   Bachelor's Degree|Education Management|                null|         0|\n",
      "|    37|Graduates: Englis...|     US, NY, Yonkers|                null|         null|We help teachers ...|Play with kids, g...|University degree...| See job description|            0|               1|            0|       Contract|               null|   Bachelor's Degree|Education Management|                null|         0|\n",
      "|    38|     PROJECT MANAGER|     US, TX, HOUSTON|                null|         null|                null|we are looking fo...|                null|                null|            0|               0|            0|      Full-time|   Mid-Senior level|   Bachelor's Degree|        Oil & Energy|         Engineering|         0|\n",
      "|    39|        Art Director|   IN, AP, Hyderabad|              Design|         null|We're an emerging...|You love clients ...|We want you if yo...|Why work for Mutu...|            0|               1|            1|      Full-time|   Mid-Senior level|                null|   Computer Software|              Design|         0|\n",
      "|    40|Receptionist/Cust...|     US, IL, Chicago|                null|         null|Novitex Enterpris...|The Receptionist ...|Required Qualific...|                null|            0|               1|            0|      Full-time|        Entry level|High School or eq...|  Financial Services|      Administrative|         0|\n",
      "|    41|English Teacher A...|    US, PA, Kutztown|                null|         null|We help teachers ...|Play with kids, g...|University degree...| See job description|            0|               1|            1|       Contract|               null|   Bachelor's Degree|Education Management|                null|         0|\n",
      "|    42|English Teacher A...|  US, CA, Sacramento|                null|         null|We help teachers ...|Play with kids, g...|University degree...| See job description|            0|               1|            1|       Contract|               null|   Bachelor's Degree|Education Management|                null|         0|\n",
      "|    43|       Jr. Developer|                  US|                null|  40000-50000|                null|Entry level Softw...|                null|                null|            0|               0|            0|      Full-time|        Entry level|   Bachelor's Degree|   Computer Software|         Engineering|         0|\n",
      "|    44|Customer Service ...|    US, MD, Columbia|                null|         null|Novitex Enterpris...|The Customer Serv...|Minimum Requireme...|                null|            0|               1|            0|      Full-time|        Entry level|High School or eq...|   Consumer Services|    Customer Service|         0|\n",
      "|    45|Customer Service ...|       US, OK, Tulsa|                null|         null|Novitex Enterpris...|We are currently ...|Required Qualific...|                null|            0|               1|            0|      Full-time|        Entry level|High School or eq...|   Computer Software|    Customer Service|         0|\n",
      "|    46|Inside Sales Prof...|       US, NE, Omaha|                null|         null|ABC Supply Co., I...|As a Sales Repres...|As a Sales Repres...|Your benefits pac...|            0|               1|            0|      Full-time|               null|                null|  Building Materials|               Sales|         0|\n",
      "|    47|        Entry Level |             EG, C, |                null|         null|History &amp; Bac...|We offer diversif...|-0-1 years experi...|                null|            0|               0|            0|      Full-time|        Entry level|   Bachelor's Degree|             Banking|                null|         0|\n",
      "|    48|Customer Service ...|   US, TN, Brentwood|                null|         null|Novitex Enterpris...|The Customer Serv...|Minimum Requireme...|                null|            0|               1|            0|      Full-time|        Entry level|High School or eq...|  Financial Services|      Administrative|         0|\n",
      "|    49|English Teacher A...|        US, OH, Kent|                null|         null|We help teachers ...|Play with kids, g...|University degree...| See job description|            0|               1|            1|       Contract|               null|   Bachelor's Degree|Education Management|                null|         0|\n",
      "|    50|Customer Service ...|       US, NH, Dover|                null|         null|Novitex Enterpris...|We are currently ...|Required Qualific...|                null|            0|               1|            0|      Full-time|        Entry level|High School or eq...| Facilities Services|    Customer Service|         0|\n",
      "|    51|Food Production M...| US, NV, Carson City|          Production|         null|PGI is a fast gro...|November, 2014Pur...|Manager role requ...|                null|            0|               1|            0|      Full-time|        Entry level|High School or eq...|    Food & Beverages|          Production|         0|\n",
      "|    52|Administrative/Fr...|       US, OK, Tulsa|                null|         null|Novitex Enterpris...|The Customer Serv...|Required Qualific...|                null|            0|               1|            0|      Full-time|        Entry level|High School or eq...|Education Management|      Administrative|         0|\n",
      "|    53|Payroll Tax Speci...|    US, NY, New York|                null|         null|Namely is the lea...|Namely is an agil...|Qualifications:Pa...|                null|            0|               1|            0|      Full-time|               null|                null|Information Techn...|                null|         0|\n",
      "|    54|Technical Project...|US, NY, New York ...|                null|         null|                null|GBI is a growing ...|Must have excelle...|Experience with C...|            0|               0|            0|      Full-time|          Associate|   Bachelor's Degree|  Financial Services|Information Techn...|         0|\n",
      "|    55|Outside Sales Pro...|   US, MN, St. Cloud|                null|         null|ABC Supply Co., I...|As an Outside Sal...|Track Record of S...|As an Outside Sal...|            0|               1|            0|           null|               null|                null|                null|                null|         0|\n",
      "|    56|Junior HR Marketi...|              PL, , |                null|         null|We are Netguru an...|We are Netguru an...|Great Junior HR M...|Perks &amp; benef...|            0|               1|            1|           null|               null|                null|                null|                null|         0|\n",
      "|    57|Outside Sales Pro...|     US, MN, Oronoco|                null|         null|ABC Supply Co., I...|As an Outside Sal...|Track Record of S...|As an Outside Sal...|            0|               1|            0|           null|               null|                null|                null|                null|         0|\n",
      "|    58|Intensive Case Ma...|      CA, ON, Ottawa|                 ICM|         null|Since 1973: Worki...|Internal/External...|Education and Lan...|Sandy Hill Commun...|            0|               1|            1|           null|               null|   Bachelor's Degree|Hospital & Health...|                null|         0|\n",
      "|    59|      Marketing Guru|  US, TX, Fort Worth|                null|         null|We're a Fort Wort...|We're a Fort Wort...|You've got: 3 - 5...|And for your effo...|            0|               1|            0|      Full-time|          Associate|   Bachelor's Degree|   Computer Software|           Marketing|         0|\n",
      "|    60|Product Visual De...|US, CA, San Franc...|                null|         null|From the lands of...|Apcera is revolut...|RESPONSIBILITIES:...|Competitive salar...|            0|               1|            1|      Full-time|     Not Applicable|         Unspecified|Information Techn...|              Design|         0|\n",
      "|    61|Graduates: Englis...|   US, IA, Iowa city|                null|         null|We help teachers ...|Play with kids, g...|University degree...| See job description|            0|               1|            1|       Contract|        Entry level|   Bachelor's Degree|Education Management|           Education|         0|\n",
      "|    62|Bulk Ingredient U...|US, IA, Cedar Rapids|    General Services|         null|Red Star Yeast Co...|The primary funct...|Must be able to u...|Benefit, Compensa...|            0|               1|            1|      Full-time|        Entry level|High School or eq...|     Food Production|        Supply Chain|         0|\n",
      "|    63|English Teacher A...|  US, CA, Sacramento|                null|         null|We help teachers ...|Play with kids, g...|University degree...| See job description|            0|               1|            1|       Contract|               null|   Bachelor's Degree|Education Management|                null|         0|\n",
      "|    64|Customer Services...|     US, CT, Windsor|                null|         null|Novitex Enterpris...|We are currently ...|Required Qualific...|                null|            0|               1|            0|      Full-time|        Entry level|High School or eq...|Hospital & Health...|    Customer Service|         0|\n",
      "|    65|SENIOR FINANCE SO...|              US, , |                null|         null|                null|DUTIES: Conduct r...|REQUIREMENTS: Bac...|                null|            0|               0|            0|           null|               null|                null|                null|                null|         0|\n",
      "|    66|   Digital Developer|     NZ, N, Auckland|                null|        60-80|TELL is a digital...|We are a boutique...|You will be:A mas...|60-80K salary, ba...|            0|               1|            1|      Full-time|               null|         Unspecified|   Computer Software|         Engineering|         0|\n",
      "|    67|AS3 / Flash Devel...|       GR, I, Athens|         Engineering|         null|reEmbedit provide...|We are looking fo...|AS3 / FLASHVideo ...|Competitive salar...|            0|               1|            1|           null|               null|                null|                null|                null|         0|\n",
      "|    68|Production Superv...|US, PA, Philadelphia|                null|         null|We Provide Full T...|(We have more tha...|                null|                null|            0|               0|            0|      Full-time|               null|                null|                null|                null|         0|\n",
      "|    69|New Product Devel...|  US, OH, Cincinnati|                null|         null|We Provide Full T...|(We have more tha...|                null|                null|            0|               0|            0|      Full-time|               null|                null|                null|                null|         0|\n",
      "|    70|Ruby Automation E...|US, CA, Menlo Par...|                  IT|         null|                null|Position # 1Ruby ...|Position # 1Ruby ...|                null|            0|               0|            1|       Contract|               null|                null|                null|Information Techn...|         0|\n",
      "|    71|Tasting Adventure...|     GB, LND, London|           Marketing|         null|Luxury British co...|The Tasting Adven...|Passionate about ...|This role will be...|            0|               1|            0|           null|               null|                null|                null|           Marketing|         0|\n",
      "|    72|    Branch Associate|   US, NY, Otisville|                null|         null|Outstanding Membe...|Would you like to...|Minimum of 1 year...|Our people are ou...|            0|               1|            1|      Full-time|          Associate|High School or eq...|             Banking|    Customer Service|         0|\n",
      "|    73|Customer Service ...|  US, FL, Plantation|                null|         null|Novitex Enterpris...|The Customer Serv...|Minimum Requireme...|                null|            0|               1|            0|      Part-time|        Entry level|High School or eq...|  Financial Services|    Customer Service|         0|\n",
      "|    74|  Specialist Obs/Gyn|       AE, DU, Dubai|                null|         null|                null|A well-known hosp...|Must have either ...|Attractive salary...|            0|               0|            0|      Full-time|               null|                null|Health, Wellness ...|                null|         0|\n",
      "|    75|Call Attendant - ...|       US, NH, Dover|                null|         null|Novitex Enterpris...| The Customer Ser...|Requirements:High...|                null|            0|               1|            0|      Part-time|        Entry level|High School or eq...|           Insurance|      Administrative|         0|\n",
      "|    76|Senior Full-Stack...|      DE, BE, Berlin|         Engineering|         null|Babbel enables an...|We are looking fo...|5 years+ experien...|The potential to ...|            0|               1|            1|      Full-time|   Mid-Senior level|     Master's Degree|          E-Learning|         Engineering|         0|\n",
      "|    77|       Medical Coder|  US, TX, Fort Worth|                null|  65000-70000|SpotSource Soluti...|JOB TITLE: Certif...|PRODUCTION EXPECT...|    Benefits Offered|            0|               1|            1|      Full-time|          Associate|High School or eq...|Hospital & Health...|Health Care Provider|         0|\n",
      "|    78|Mid-Senior .NET o...|     US, GA, Atlanta|                null|       75-115|                null|DataFinch Technol...|We are looking fo...|Health, Vision, D...|            0|               0|            0|      Full-time|   Mid-Senior level|   Bachelor's Degree|   Computer Software|Information Techn...|         0|\n",
      "|    79|200K + MANAGEMENT...|    US, PA, Scranton|                null|         null|Our name is not i...|ONLY ONE MANAGER ...|                null|                null|            1|               0|            0|      Full-time|   Mid-Senior level|                null|             Banking|Business Development|         0|\n",
      "|    80|     Product Manager|          NZ, N, Wel|                null| 75000-110000|Mindscape is a We...|Raygun is a fast ...|3+ years experien...|You'll be part of...|            0|               1|            1|      Full-time|               null|   Bachelor's Degree|Information Techn...|  Product Management|         0|\n",
      "|    81|English Teacher A...|     US, CA, Anaheim|                null|         null|We help teachers ...|Play with kids, g...|University degree...| See job description|            0|               1|            1|       Contract|               null|   Bachelor's Degree|Education Management|                null|         0|\n",
      "|    82|Customer Service ...|US, CA, San Franc...|                null|         null|Novitex Enterpris...|The Customer Serv...|Position Requirem...|                null|            0|               1|            0|      Full-time|        Entry level|High School or eq...|  Financial Services|    Customer Service|         0|\n",
      "|    83|Edinburgh Fragran...|     GB, , Edinburgh|                null|         null|Established on th...|We are currently ...|Experience in fra...|Bonuses are avail...|            0|               1|            1|      Temporary|          Associate|         Unspecified|           Cosmetics|               Sales|         0|\n",
      "|    84|Mail Processing A...|      US, KY, London|                null|         null|Novitex Enterpris...|We are currently ...|Required Qualific...|                null|            0|               1|            0|      Full-time|        Entry level|High School or eq...|   Consumer Services|    Customer Service|         0|\n",
      "|    85|Customer Service ...|   US, NC, Charlotte|                null|         null|Novitex Enterpris...|The Customer Serv...|Position Requirem...|                null|            0|               1|            0|      Part-time|        Entry level|High School or eq...| Facilities Services|    Customer Service|         0|\n",
      "|    86|  Research Associate|US, CA, Newport B...|                null|         null|Green Street Advi...|Green Street Advi...|In addition to a ...|Green Street Advi...|            0|               1|            1|      Full-time|          Associate|   Bachelor's Degree|  Financial Services|   Financial Analyst|         0|\n",
      "|    87|Customer Service ...| US, MN, Minneapolis|                null|         null|Novitex Enterpris...|We are currently ...|Required Qualific...|                null|            0|               1|            0|      Full-time|        Entry level|High School or eq...|Hospital & Health...|      Administrative|         0|\n",
      "|    88|Customer Service ...|    US, TN, Franklin|                null|         null|Novitex Enterpris...| The Customer Ser...|Required Qualific...|                null|            0|               1|            0|      Full-time|        Entry level|High School or eq...|           Insurance|    Customer Service|         0|\n",
      "|    89|Sales and Partner...|       GR, I, Athens|Business Development|         null|Hi, we are dopios...|At dopios we are ...|                null|                null|            0|               1|            1|           null|               null|                null|                null|                null|         0|\n",
      "|    90|English Teacher A...|     CA, ON,  Ottawa|                null|         null|We help teachers ...|Play with kids, g...|University degree...| See job description|            0|               1|            1|       Contract|               null|   Bachelor's Degree|Education Management|                null|         0|\n",
      "|    91|   Marketing Manager|    US, NY, New York|           Marketing|         null|Super Soccer Star...|Super Soccer Star...|Minimum of 3 year...|We offer a compet...|            0|               1|            0|      Full-time|          Associate|   Bachelor's Degree|Marketing and Adv...|           Marketing|         0|\n",
      "|    92|Recruitment Consu...|              GB, , |                null|  17000-20000|Change Automotive...|Are you looking t...|You will be respo...|An Experienced Re...|            0|               1|            0|      Full-time|               null|                null|Staffing and Recr...|          Consulting|         0|\n",
      "|    93|WAH Customer Serv...|    US, SC, Columbia|     Human Resources|  16000-28000|                null|ECHO HEIGHT LLC (...|                null|                null|            1|               0|            0|      Full-time|        Entry level|High School or eq...|   Consumer Services|     Human Resources|         0|\n",
      "|    94|Administrative As...|US, CA, San Franc...|                null|         null|Novitex Enterpris...|The Administrativ...|Minimum Requireme...|                null|            0|               1|            0|      Full-time|        Entry level|High School or eq...|  Financial Services|      Administrative|         0|\n",
      "|    95|WF17 9LU Customer...|      GB, , Birstall|                null|         null|Established on th...|This is fantastic...|Government fundin...|    Future Prospects|            0|               1|            1|      Full-time|     Not Applicable|High School or eq...|                null|      Administrative|         0|\n",
      "|    96|Senior Marketing ...|              US, , |           Marketing|         null|Industrial Color ...|Senior Marketing ...|Reporting to the ...|       Full benefits|            0|               1|            0|      Full-time|           Director|     Master's Degree|            Internet|           Marketing|         0|\n",
      "|    97|Software Test Eng...|        GB, , London|                null|         null|At LendInvest fun...|#URL_f10cb7b12799...|Responsibilities:...|HackathonsLots of...|            0|               1|            0|      Full-time|   Mid-Senior level|   Bachelor's Degree|  Financial Services|Information Techn...|         0|\n",
      "|    98|Customer Service ...|  US, PA, Pittsburgh|                null|         null|Novitex Enterpris...|The Customer Serv...|Minimum Requireme...|                null|            0|               1|            0|      Full-time|        Entry level|High School or eq...|   Consumer Services|    Customer Service|         0|\n",
      "|    99|     IC&E Technician|   US, , Stocton, CA|        Oil & Energy| 95000-115000|                 ...|IC&amp;E Technici...|QualificationsKno...|BENEFITSWhat is o...|            0|               1|            1|      Full-time|   Mid-Senior level|High School or eq...|        Oil & Energy|               Other|         1|\n",
      "|   100|English Teacher A...|    US, NY, New York|                null|         null|We help teachers ...|Play with kids, g...|University degree...| See job description|            0|               1|            1|       Contract|               null|   Bachelor's Degree|Education Management|                null|         0|\n",
      "+------+--------------------+--------------------+--------------------+-------------+--------------------+--------------------+--------------------+--------------------+-------------+----------------+-------------+---------------+-------------------+--------------------+--------------------+--------------------+----------+\n",
      "only showing top 100 rows\n",
      "\n"
     ]
    }
   ],
   "source": [
    "df = spark.read.format(\"csv\").option(\"header\", \"true\").option(\"escape\",\"\\\"\").option(\"quote\",\"\\\"\").load(\"fake_job_postings.csv\", sep=\",\")\n",
    "\n",
    "df.show(100)"
   ]
  },
  {
   "cell_type": "code",
   "execution_count": 216,
   "metadata": {},
   "outputs": [
    {
     "data": {
      "text/plain": [
       "[('job_id', 'string'),\n",
       " ('title', 'string'),\n",
       " ('location', 'string'),\n",
       " ('department', 'string'),\n",
       " ('salary_range', 'string'),\n",
       " ('company_profile', 'string'),\n",
       " ('description', 'string'),\n",
       " ('requirements', 'string'),\n",
       " ('benefits', 'string'),\n",
       " ('telecommuting', 'string'),\n",
       " ('has_company_logo', 'string'),\n",
       " ('has_questions', 'string'),\n",
       " ('employment_type', 'string'),\n",
       " ('required_experience', 'string'),\n",
       " ('required_education', 'string'),\n",
       " ('industry', 'string'),\n",
       " ('function', 'string'),\n",
       " ('fraudulent', 'string')]"
      ]
     },
     "execution_count": 216,
     "metadata": {},
     "output_type": "execute_result"
    }
   ],
   "source": [
    "df.dtypes"
   ]
  },
  {
   "cell_type": "code",
   "execution_count": 217,
   "metadata": {},
   "outputs": [],
   "source": [
    "from pyspark.sql.types import StringType\n",
    "\n",
    "def get_country(location):\n",
    "    if location is None:\n",
    "        return None\n",
    "    else:\n",
    "        location_list = location.strip().split(sep = \",\")\n",
    "        return location_list[0].lower()\n",
    "\n",
    "def get_state(location):\n",
    "    if location is None:\n",
    "        return None\n",
    "    else:\n",
    "        location_list = location.strip().split(sep = \",\")\n",
    "        if(len(location_list)>1 and not location_list[1].isspace()):\n",
    "            return location_list[1].lower()\n",
    "        else: \n",
    "            return None\n",
    "\n",
    "udf_country = F.udf(get_country, StringType())\n",
    "udf_state = F.udf(get_state, StringType())\n"
   ]
  },
  {
   "cell_type": "code",
   "execution_count": 218,
   "metadata": {},
   "outputs": [
    {
     "name": "stdout",
     "output_type": "stream",
     "text": [
      "+------+--------------------+--------------------+-------------+--------------------+--------------------+--------------------+--------------------+-------------+----------------+-------------+---------------+-------------------+--------------------+--------------------+--------------------+----------+-------+-----+\n",
      "|job_id|               title|          department| salary_range|     company_profile|         description|        requirements|            benefits|telecommuting|has_company_logo|has_questions|employment_type|required_experience|  required_education|            industry|            function|fraudulent|country|state|\n",
      "+------+--------------------+--------------------+-------------+--------------------+--------------------+--------------------+--------------------+-------------+----------------+-------------+---------------+-------------------+--------------------+--------------------+--------------------+----------+-------+-----+\n",
      "|     1|    Marketing Intern|           Marketing|         null|We're Food52, and...|Food52, a fast-gr...|Experience with c...|                null|            0|               1|            0|          Other|         Internship|                null|                null|           Marketing|         0|     us|   ny|\n",
      "|     2|Customer Service ...|             Success|         null|90 Seconds, the w...|Organised - Focus...|What we expect fr...|What you will get...|            0|               1|            0|      Full-time|     Not Applicable|                null|Marketing and Adv...|    Customer Service|         0|     nz| null|\n",
      "|     3|Commissioning Mac...|                null|         null|Valor Services pr...|Our client, locat...|Implement pre-com...|                null|            0|               1|            0|           null|               null|                null|                null|                null|         0|     us|   ia|\n",
      "|     4|Account Executive...|               Sales|         null|Our passion for i...|THE COMPANY: ESRI...|EDUCATION: Bachel...|Our culture is an...|            0|               1|            0|      Full-time|   Mid-Senior level|   Bachelor's Degree|   Computer Software|               Sales|         0|     us|   dc|\n",
      "|     5| Bill Review Manager|                null|         null|SpotSource Soluti...|JOB TITLE: Itemiz...|QUALIFICATIONS:RN...|Full Benefits Off...|            0|               1|            1|      Full-time|   Mid-Senior level|   Bachelor's Degree|Hospital & Health...|Health Care Provider|         0|     us|   fl|\n",
      "|     6|    Accounting Clerk|                null|         null|                null|Job OverviewApex ...|                null|                null|            0|               0|            0|           null|               null|                null|                null|                null|         0|     us|   md|\n",
      "|     7|Head of Content (...|          ANDROIDPIT|  20000-28000|Founded in 2009, ...|Your Responsibili...|Your Know-How:   ...|Your Benefits: Be...|            0|               1|            1|      Full-time|   Mid-Senior level|     Master's Degree|        Online Media|          Management|         0|     de|   be|\n",
      "|     8|Lead Guest Servic...|                null|         null|Airenvy’s mission...|Who is Airenvy?He...|Experience with C...|Competitive Pay. ...|            0|               1|            1|           null|               null|                null|                null|                null|         0|     us|   ca|\n",
      "|     9|          HP BSM SME|                null|         null|Solutions3 is a w...|Implementation/Co...|MUST BE A US CITI...|                null|            0|               1|            1|      Full-time|          Associate|                null|Information Techn...|                null|         0|     us|   fl|\n",
      "|    10|Customer Service ...|                null|         null|Novitex Enterpris...|The Customer Serv...|Minimum Requireme...|                null|            0|               1|            0|      Part-time|        Entry level|High School or eq...|  Financial Services|    Customer Service|         0|     us|   az|\n",
      "|    11|ASP.net Developer...|                null|100000-120000|                null|Position : #URL_8...|Position : #URL_8...|Benefits - FullBo...|            0|               0|            0|      Full-time|   Mid-Senior level|   Bachelor's Degree|Information Techn...|Information Techn...|         0|     us|   nj|\n",
      "|    12|Talent Sourcer (6...|                  HR|         null|Want to build a 2...|TransferWise is t...|We’re looking for...|You will join one...|            0|               1|            0|           null|               null|                null|                null|                null|         0|     gb|  lnd|\n",
      "|    13|Applications Deve...|                null|         null|Novitex Enterpris...|The Applications ...|Requirements:4 – ...|                null|            0|               1|            0|      Full-time|          Associate|   Bachelor's Degree|Management Consul...|Information Techn...|         0|     us|   ct|\n",
      "|    14|          Installers|                null|         null|Growing event pro...|Event Industry In...|Valid driver's li...|                null|            0|               1|            1|      Full-time|     Not Applicable|         Unspecified|     Events Services|               Other|         0|     us|   fl|\n",
      "|    15|Account Executive...|               Sales|         null|Adthena is the UK...|Are you intereste...|You’ll need to be...|In return we'll p...|            0|               1|            0|      Full-time|          Associate|   Bachelor's Degree|            Internet|               Sales|         0|     au|  nsw|\n",
      "|    16|VP of Sales - Vau...|               Sales|120000-150000|Jungle Ventures i...|About Vault Drago...|Key Superpowers3-...|Basic: SGD 120,00...|            0|               1|            1|      Full-time|          Executive|   Bachelor's Degree| Facilities Services|               Sales|         0|     sg|   01|\n",
      "|    17| Hands-On QA Leader |                 R&D|         null|At HoneyBook we’r...|We are looking fo...|Previous experien...|                null|            0|               1|            0|      Full-time|   Mid-Senior level|                null|            Internet|         Engineering|         0|     il| null|\n",
      "|    18|Southend-on-Sea T...|                null|         null|Established on th...|Government fundin...|16-18 year olds o...|   Career prospects.|            0|               1|            1|           null|               null|                null|                null|                null|         0|     gb|  sos|\n",
      "|    19|     Visual Designer|                null|         null|Kettle is an inde...|Kettle is hiring ...|                null|                null|            0|               1|            0|           null|               null|                null|                null|                null|         0|     us|   ny|\n",
      "|    20|Process Controls ...|                null|         null|We Provide Full T...|Experienced Proce...|Must have 5 or mo...|                null|            0|               0|            0|      Full-time|               null|                null|                null|                null|         0|     us|   pa|\n",
      "|    21| Marketing Assistant|                null|         null|IntelliBright was...|IntelliBright is ...|Job RequirementsA...|                null|            0|               1|            0|           null|               null|                null|                null|           Marketing|         0|     us|   tx|\n",
      "|    22|Front End Develop...|                null|         null|Frustrated with t...|Want to be part o...|You will most lik...|You will be part ...|            0|               1|            0|      Full-time|   Mid-Senior level|     Master's Degree|Consumer Electronics|         Engineering|         0|     nz|    n|\n",
      "|    23| Engagement Manager |          Engagement|         null|Upstream’s missio...|The position repo...|RequirementsThe i...|Salary &amp; Bene...|            0|               1|            1|      Full-time|   Mid-Senior level|   Bachelor's Degree|  Telecommunications|               Sales|         0|     ae| null|\n",
      "|    24|Vice President, S...|  Businessfriend.com|100000-120000|WDM Group is an i...|#URL_eda2500ddced...|Job Requirements:...|Businessfriend wi...|            0|               1|            0|      Full-time|          Executive|         Unspecified|            Internet|               Sales|         0|     us|   ca|\n",
      "|    25|   Customer Service |                null|         null|                null|We are a canary w...|                null|                null|            0|               0|            0|           null|               null|                null|                null|                null|         0|     gb|  lnd|\n",
      "|    26|H1B SPONSOR FOR L...|                null|         null|i28 Technologies ...|Hello,Wish you ar...|JAVA, .NET, SQL, ...|                null|            0|               1|            1|           null|               null|                null|                null|                null|         0|     us|   ny|\n",
      "|    27|      Marketing Exec|           Marketing|         null|If working in a c...|We are currently ...|This position is ...|We are looking fo...|            0|               1|            0|      Full-time|          Associate|                null|        Online Media|           Marketing|         0|     sg| null|\n",
      "|    28|HAAD/DHA Licensed...|             Medical|         null|We the Medical Re...|HAAD/DHA Licensed...|RequirementsEndoc...|Our client is one...|            0|               1|            0|      Full-time|          Associate|     Master's Degree|Hospital & Health...|Health Care Provider|         0|     ae|   az|\n",
      "|    29|Talent Management...|                null|         null|We Provide Full T...|(We have more tha...|                null|                null|            0|               0|            0|      Full-time|               null|                null|Management Consul...|                null|         0|     us|   mo|\n",
      "|    30|Customer Service ...|                null|         null|Novitex Enterpris...|The Customer Serv...|Minimum Requireme...|                null|            0|               1|            0|      Full-time|        Entry level|High School or eq...|   Consumer Services|      Administrative|         0|     ca|   on|\n",
      "|    31|Customer Service ...|                null|         null|Novitex Enterpris...|The Customer Serv...|Qualifications:Mi...|                null|            0|               1|            0|      Full-time|        Entry level|High School or eq...|   Computer Software|    Customer Service|         0|     us|   ma|\n",
      "|    32|Software Applicat...|                null|  50000-65000|                null|Day to Day-Instal...|Must Have's3+ yea...|Medical, Dental, ...|            0|               1|            0|      Full-time|          Associate|         Unspecified|   Computer Software|         Engineering|         0|     us|   ks|\n",
      "|    33| Craftsman Associate|               Field|         null|We are an award-w...|Construction: Ent...|Requirements:  (P...|Benefits:  Hourly...|            0|               1|            1|      Full-time|        Entry level|         Unspecified|        Construction|               Other|         0|     us|   wa|\n",
      "|    34| Completion Engineer|                null|         null|Valor Services pr...|About the Company...|Education:Bachelo...|                null|            0|               1|            1|      Full-time|               null|   Bachelor's Degree|        Oil & Energy|         Engineering|         0|     us|   ca|\n",
      "|    35|I Want To Work At...|                 All|         null|At Karmarama we h...|Didn't see a role...|Hey!Thanks again ...|                null|            0|               1|            1|      Full-time|               null|                null|Marketing and Adv...|                null|         0|     gb|  lnd|\n",
      "|    36|English Teacher A...|                null|         null|We help teachers ...|Play with kids, g...|University degree...| See job description|            0|               1|            1|       Contract|               null|   Bachelor's Degree|Education Management|                null|         0|     us|   ny|\n",
      "|    37|Graduates: Englis...|                null|         null|We help teachers ...|Play with kids, g...|University degree...| See job description|            0|               1|            0|       Contract|               null|   Bachelor's Degree|Education Management|                null|         0|     us|   ny|\n",
      "|    38|     PROJECT MANAGER|                null|         null|                null|we are looking fo...|                null|                null|            0|               0|            0|      Full-time|   Mid-Senior level|   Bachelor's Degree|        Oil & Energy|         Engineering|         0|     us|   tx|\n",
      "|    39|        Art Director|              Design|         null|We're an emerging...|You love clients ...|We want you if yo...|Why work for Mutu...|            0|               1|            1|      Full-time|   Mid-Senior level|                null|   Computer Software|              Design|         0|     in|   ap|\n",
      "|    40|Receptionist/Cust...|                null|         null|Novitex Enterpris...|The Receptionist ...|Required Qualific...|                null|            0|               1|            0|      Full-time|        Entry level|High School or eq...|  Financial Services|      Administrative|         0|     us|   il|\n",
      "|    41|English Teacher A...|                null|         null|We help teachers ...|Play with kids, g...|University degree...| See job description|            0|               1|            1|       Contract|               null|   Bachelor's Degree|Education Management|                null|         0|     us|   pa|\n",
      "|    42|English Teacher A...|                null|         null|We help teachers ...|Play with kids, g...|University degree...| See job description|            0|               1|            1|       Contract|               null|   Bachelor's Degree|Education Management|                null|         0|     us|   ca|\n",
      "|    43|       Jr. Developer|                null|  40000-50000|                null|Entry level Softw...|                null|                null|            0|               0|            0|      Full-time|        Entry level|   Bachelor's Degree|   Computer Software|         Engineering|         0|     us| null|\n",
      "|    44|Customer Service ...|                null|         null|Novitex Enterpris...|The Customer Serv...|Minimum Requireme...|                null|            0|               1|            0|      Full-time|        Entry level|High School or eq...|   Consumer Services|    Customer Service|         0|     us|   md|\n",
      "|    45|Customer Service ...|                null|         null|Novitex Enterpris...|We are currently ...|Required Qualific...|                null|            0|               1|            0|      Full-time|        Entry level|High School or eq...|   Computer Software|    Customer Service|         0|     us|   ok|\n",
      "|    46|Inside Sales Prof...|                null|         null|ABC Supply Co., I...|As a Sales Repres...|As a Sales Repres...|Your benefits pac...|            0|               1|            0|      Full-time|               null|                null|  Building Materials|               Sales|         0|     us|   ne|\n",
      "|    47|        Entry Level |                null|         null|History &amp; Bac...|We offer diversif...|-0-1 years experi...|                null|            0|               0|            0|      Full-time|        Entry level|   Bachelor's Degree|             Banking|                null|         0|     eg|    c|\n",
      "|    48|Customer Service ...|                null|         null|Novitex Enterpris...|The Customer Serv...|Minimum Requireme...|                null|            0|               1|            0|      Full-time|        Entry level|High School or eq...|  Financial Services|      Administrative|         0|     us|   tn|\n",
      "|    49|English Teacher A...|                null|         null|We help teachers ...|Play with kids, g...|University degree...| See job description|            0|               1|            1|       Contract|               null|   Bachelor's Degree|Education Management|                null|         0|     us|   oh|\n",
      "|    50|Customer Service ...|                null|         null|Novitex Enterpris...|We are currently ...|Required Qualific...|                null|            0|               1|            0|      Full-time|        Entry level|High School or eq...| Facilities Services|    Customer Service|         0|     us|   nh|\n",
      "|    51|Food Production M...|          Production|         null|PGI is a fast gro...|November, 2014Pur...|Manager role requ...|                null|            0|               1|            0|      Full-time|        Entry level|High School or eq...|    Food & Beverages|          Production|         0|     us|   nv|\n",
      "|    52|Administrative/Fr...|                null|         null|Novitex Enterpris...|The Customer Serv...|Required Qualific...|                null|            0|               1|            0|      Full-time|        Entry level|High School or eq...|Education Management|      Administrative|         0|     us|   ok|\n",
      "|    53|Payroll Tax Speci...|                null|         null|Namely is the lea...|Namely is an agil...|Qualifications:Pa...|                null|            0|               1|            0|      Full-time|               null|                null|Information Techn...|                null|         0|     us|   ny|\n",
      "|    54|Technical Project...|                null|         null|                null|GBI is a growing ...|Must have excelle...|Experience with C...|            0|               0|            0|      Full-time|          Associate|   Bachelor's Degree|  Financial Services|Information Techn...|         0|     us|   ny|\n",
      "|    55|Outside Sales Pro...|                null|         null|ABC Supply Co., I...|As an Outside Sal...|Track Record of S...|As an Outside Sal...|            0|               1|            0|           null|               null|                null|                null|                null|         0|     us|   mn|\n",
      "|    56|Junior HR Marketi...|                null|         null|We are Netguru an...|We are Netguru an...|Great Junior HR M...|Perks &amp; benef...|            0|               1|            1|           null|               null|                null|                null|                null|         0|     pl| null|\n",
      "|    57|Outside Sales Pro...|                null|         null|ABC Supply Co., I...|As an Outside Sal...|Track Record of S...|As an Outside Sal...|            0|               1|            0|           null|               null|                null|                null|                null|         0|     us|   mn|\n",
      "|    58|Intensive Case Ma...|                 ICM|         null|Since 1973: Worki...|Internal/External...|Education and Lan...|Sandy Hill Commun...|            0|               1|            1|           null|               null|   Bachelor's Degree|Hospital & Health...|                null|         0|     ca|   on|\n",
      "|    59|      Marketing Guru|                null|         null|We're a Fort Wort...|We're a Fort Wort...|You've got: 3 - 5...|And for your effo...|            0|               1|            0|      Full-time|          Associate|   Bachelor's Degree|   Computer Software|           Marketing|         0|     us|   tx|\n",
      "|    60|Product Visual De...|                null|         null|From the lands of...|Apcera is revolut...|RESPONSIBILITIES:...|Competitive salar...|            0|               1|            1|      Full-time|     Not Applicable|         Unspecified|Information Techn...|              Design|         0|     us|   ca|\n",
      "|    61|Graduates: Englis...|                null|         null|We help teachers ...|Play with kids, g...|University degree...| See job description|            0|               1|            1|       Contract|        Entry level|   Bachelor's Degree|Education Management|           Education|         0|     us|   ia|\n",
      "|    62|Bulk Ingredient U...|    General Services|         null|Red Star Yeast Co...|The primary funct...|Must be able to u...|Benefit, Compensa...|            0|               1|            1|      Full-time|        Entry level|High School or eq...|     Food Production|        Supply Chain|         0|     us|   ia|\n",
      "|    63|English Teacher A...|                null|         null|We help teachers ...|Play with kids, g...|University degree...| See job description|            0|               1|            1|       Contract|               null|   Bachelor's Degree|Education Management|                null|         0|     us|   ca|\n",
      "|    64|Customer Services...|                null|         null|Novitex Enterpris...|We are currently ...|Required Qualific...|                null|            0|               1|            0|      Full-time|        Entry level|High School or eq...|Hospital & Health...|    Customer Service|         0|     us|   ct|\n",
      "|    65|SENIOR FINANCE SO...|                null|         null|                null|DUTIES: Conduct r...|REQUIREMENTS: Bac...|                null|            0|               0|            0|           null|               null|                null|                null|                null|         0|     us| null|\n",
      "|    66|   Digital Developer|                null|        60-80|TELL is a digital...|We are a boutique...|You will be:A mas...|60-80K salary, ba...|            0|               1|            1|      Full-time|               null|         Unspecified|   Computer Software|         Engineering|         0|     nz|    n|\n",
      "|    67|AS3 / Flash Devel...|         Engineering|         null|reEmbedit provide...|We are looking fo...|AS3 / FLASHVideo ...|Competitive salar...|            0|               1|            1|           null|               null|                null|                null|                null|         0|     gr|    i|\n",
      "|    68|Production Superv...|                null|         null|We Provide Full T...|(We have more tha...|                null|                null|            0|               0|            0|      Full-time|               null|                null|                null|                null|         0|     us|   pa|\n",
      "|    69|New Product Devel...|                null|         null|We Provide Full T...|(We have more tha...|                null|                null|            0|               0|            0|      Full-time|               null|                null|                null|                null|         0|     us|   oh|\n",
      "|    70|Ruby Automation E...|                  IT|         null|                null|Position # 1Ruby ...|Position # 1Ruby ...|                null|            0|               0|            1|       Contract|               null|                null|                null|Information Techn...|         0|     us|   ca|\n",
      "|    71|Tasting Adventure...|           Marketing|         null|Luxury British co...|The Tasting Adven...|Passionate about ...|This role will be...|            0|               1|            0|           null|               null|                null|                null|           Marketing|         0|     gb|  lnd|\n",
      "|    72|    Branch Associate|                null|         null|Outstanding Membe...|Would you like to...|Minimum of 1 year...|Our people are ou...|            0|               1|            1|      Full-time|          Associate|High School or eq...|             Banking|    Customer Service|         0|     us|   ny|\n",
      "|    73|Customer Service ...|                null|         null|Novitex Enterpris...|The Customer Serv...|Minimum Requireme...|                null|            0|               1|            0|      Part-time|        Entry level|High School or eq...|  Financial Services|    Customer Service|         0|     us|   fl|\n",
      "|    74|  Specialist Obs/Gyn|                null|         null|                null|A well-known hosp...|Must have either ...|Attractive salary...|            0|               0|            0|      Full-time|               null|                null|Health, Wellness ...|                null|         0|     ae|   du|\n",
      "|    75|Call Attendant - ...|                null|         null|Novitex Enterpris...| The Customer Ser...|Requirements:High...|                null|            0|               1|            0|      Part-time|        Entry level|High School or eq...|           Insurance|      Administrative|         0|     us|   nh|\n",
      "|    76|Senior Full-Stack...|         Engineering|         null|Babbel enables an...|We are looking fo...|5 years+ experien...|The potential to ...|            0|               1|            1|      Full-time|   Mid-Senior level|     Master's Degree|          E-Learning|         Engineering|         0|     de|   be|\n",
      "|    77|       Medical Coder|                null|  65000-70000|SpotSource Soluti...|JOB TITLE: Certif...|PRODUCTION EXPECT...|    Benefits Offered|            0|               1|            1|      Full-time|          Associate|High School or eq...|Hospital & Health...|Health Care Provider|         0|     us|   tx|\n",
      "|    78|Mid-Senior .NET o...|                null|       75-115|                null|DataFinch Technol...|We are looking fo...|Health, Vision, D...|            0|               0|            0|      Full-time|   Mid-Senior level|   Bachelor's Degree|   Computer Software|Information Techn...|         0|     us|   ga|\n",
      "|    79|200K + MANAGEMENT...|                null|         null|Our name is not i...|ONLY ONE MANAGER ...|                null|                null|            1|               0|            0|      Full-time|   Mid-Senior level|                null|             Banking|Business Development|         0|     us|   pa|\n",
      "|    80|     Product Manager|                null| 75000-110000|Mindscape is a We...|Raygun is a fast ...|3+ years experien...|You'll be part of...|            0|               1|            1|      Full-time|               null|   Bachelor's Degree|Information Techn...|  Product Management|         0|     nz|    n|\n",
      "|    81|English Teacher A...|                null|         null|We help teachers ...|Play with kids, g...|University degree...| See job description|            0|               1|            1|       Contract|               null|   Bachelor's Degree|Education Management|                null|         0|     us|   ca|\n",
      "|    82|Customer Service ...|                null|         null|Novitex Enterpris...|The Customer Serv...|Position Requirem...|                null|            0|               1|            0|      Full-time|        Entry level|High School or eq...|  Financial Services|    Customer Service|         0|     us|   ca|\n",
      "|    83|Edinburgh Fragran...|                null|         null|Established on th...|We are currently ...|Experience in fra...|Bonuses are avail...|            0|               1|            1|      Temporary|          Associate|         Unspecified|           Cosmetics|               Sales|         0|     gb| null|\n",
      "|    84|Mail Processing A...|                null|         null|Novitex Enterpris...|We are currently ...|Required Qualific...|                null|            0|               1|            0|      Full-time|        Entry level|High School or eq...|   Consumer Services|    Customer Service|         0|     us|   ky|\n",
      "|    85|Customer Service ...|                null|         null|Novitex Enterpris...|The Customer Serv...|Position Requirem...|                null|            0|               1|            0|      Part-time|        Entry level|High School or eq...| Facilities Services|    Customer Service|         0|     us|   nc|\n",
      "|    86|  Research Associate|                null|         null|Green Street Advi...|Green Street Advi...|In addition to a ...|Green Street Advi...|            0|               1|            1|      Full-time|          Associate|   Bachelor's Degree|  Financial Services|   Financial Analyst|         0|     us|   ca|\n",
      "|    87|Customer Service ...|                null|         null|Novitex Enterpris...|We are currently ...|Required Qualific...|                null|            0|               1|            0|      Full-time|        Entry level|High School or eq...|Hospital & Health...|      Administrative|         0|     us|   mn|\n",
      "|    88|Customer Service ...|                null|         null|Novitex Enterpris...| The Customer Ser...|Required Qualific...|                null|            0|               1|            0|      Full-time|        Entry level|High School or eq...|           Insurance|    Customer Service|         0|     us|   tn|\n",
      "|    89|Sales and Partner...|Business Development|         null|Hi, we are dopios...|At dopios we are ...|                null|                null|            0|               1|            1|           null|               null|                null|                null|                null|         0|     gr|    i|\n",
      "|    90|English Teacher A...|                null|         null|We help teachers ...|Play with kids, g...|University degree...| See job description|            0|               1|            1|       Contract|               null|   Bachelor's Degree|Education Management|                null|         0|     ca|   on|\n",
      "|    91|   Marketing Manager|           Marketing|         null|Super Soccer Star...|Super Soccer Star...|Minimum of 3 year...|We offer a compet...|            0|               1|            0|      Full-time|          Associate|   Bachelor's Degree|Marketing and Adv...|           Marketing|         0|     us|   ny|\n",
      "|    92|Recruitment Consu...|                null|  17000-20000|Change Automotive...|Are you looking t...|You will be respo...|An Experienced Re...|            0|               1|            0|      Full-time|               null|                null|Staffing and Recr...|          Consulting|         0|     gb| null|\n",
      "|    93|WAH Customer Serv...|     Human Resources|  16000-28000|                null|ECHO HEIGHT LLC (...|                null|                null|            1|               0|            0|      Full-time|        Entry level|High School or eq...|   Consumer Services|     Human Resources|         0|     us|   sc|\n",
      "|    94|Administrative As...|                null|         null|Novitex Enterpris...|The Administrativ...|Minimum Requireme...|                null|            0|               1|            0|      Full-time|        Entry level|High School or eq...|  Financial Services|      Administrative|         0|     us|   ca|\n",
      "|    95|WF17 9LU Customer...|                null|         null|Established on th...|This is fantastic...|Government fundin...|    Future Prospects|            0|               1|            1|      Full-time|     Not Applicable|High School or eq...|                null|      Administrative|         0|     gb| null|\n",
      "|    96|Senior Marketing ...|           Marketing|         null|Industrial Color ...|Senior Marketing ...|Reporting to the ...|       Full benefits|            0|               1|            0|      Full-time|           Director|     Master's Degree|            Internet|           Marketing|         0|     us| null|\n",
      "|    97|Software Test Eng...|                null|         null|At LendInvest fun...|#URL_f10cb7b12799...|Responsibilities:...|HackathonsLots of...|            0|               1|            0|      Full-time|   Mid-Senior level|   Bachelor's Degree|  Financial Services|Information Techn...|         0|     gb| null|\n",
      "|    98|Customer Service ...|                null|         null|Novitex Enterpris...|The Customer Serv...|Minimum Requireme...|                null|            0|               1|            0|      Full-time|        Entry level|High School or eq...|   Consumer Services|    Customer Service|         0|     us|   pa|\n",
      "|    99|     IC&E Technician|        Oil & Energy| 95000-115000|                 ...|IC&amp;E Technici...|QualificationsKno...|BENEFITSWhat is o...|            0|               1|            1|      Full-time|   Mid-Senior level|High School or eq...|        Oil & Energy|               Other|         1|     us| null|\n",
      "|   100|English Teacher A...|                null|         null|We help teachers ...|Play with kids, g...|University degree...| See job description|            0|               1|            1|       Contract|               null|   Bachelor's Degree|Education Management|                null|         0|     us|   ny|\n",
      "+------+--------------------+--------------------+-------------+--------------------+--------------------+--------------------+--------------------+-------------+----------------+-------------+---------------+-------------------+--------------------+--------------------+--------------------+----------+-------+-----+\n",
      "only showing top 100 rows\n",
      "\n"
     ]
    }
   ],
   "source": [
    "df = df.withColumn(\"country\", udf_country(F.col('location')))\n",
    "df = df.withColumn(\"state\", udf_state(F.col('location')))\n",
    "\n",
    "#Due to the poor form of the location column, country and state are the only useful columns we can get.\n",
    "df = df.drop(F.col('location'))\n",
    "\n",
    "df.show(100)"
   ]
  },
  {
   "cell_type": "markdown",
   "metadata": {},
   "source": [
    "## Since the salary_range column may vary because of different currencies, we get the currency for each country"
   ]
  },
  {
   "cell_type": "code",
   "execution_count": 223,
   "metadata": {},
   "outputs": [
    {
     "data": {
      "text/plain": [
       "91"
      ]
     },
     "execution_count": 223,
     "metadata": {},
     "output_type": "execute_result"
    }
   ],
   "source": [
    "df.select(\"country\").distinct().count()"
   ]
  },
  {
   "cell_type": "code",
   "execution_count": 224,
   "metadata": {},
   "outputs": [],
   "source": [
    "from bs4 import BeautifulSoup\n",
    "import requests\n",
    "\n",
    "URL = \"https://unece.org/fileadmin/DAM/cefact/recommendations/bkup_htm/cocucod.htm\"\n",
    "r = requests.get(URL)\n",
    "soup = BeautifulSoup(r.content)"
   ]
  },
  {
   "cell_type": "code",
   "execution_count": 316,
   "metadata": {},
   "outputs": [
    {
     "data": {
      "text/plain": [
       "250"
      ]
     },
     "execution_count": 316,
     "metadata": {},
     "output_type": "execute_result"
    }
   ],
   "source": [
    "country_codes = []\n",
    "currency_codes = []\n",
    "\n",
    "info = soup.find_all(\"font\", attrs={'color':'#000000','size':'1','face':'Verdana'})\n",
    "\n",
    "country_codes = [info[x].text.lower() for x in range(1526) if len(info[x].text)==2]\n",
    "\n",
    "currency_codes = [info[x].text.lower() for x in range(1526) \n",
    "                  if len(info[x].text)==3 \n",
    "                  and not info[x].text.isnumeric() \n",
    "                  and info[x].text.isupper()]\n",
    "\n",
    "#There are three countries with no official currency in this table, so we have to drop them.\n",
    "remove_list = ['gs','ps','aq']\n",
    "\n",
    "country_codes = [x for x in country_codes if x not in remove_list]\n",
    "\n",
    "CC = list(zip(country_codes,currency_codes))\n",
    "\n",
    "len(CC)"
   ]
  },
  {
   "cell_type": "code",
   "execution_count": 331,
   "metadata": {},
   "outputs": [],
   "source": [
    "def get_currencycode(country):\n",
    "    idx = 0\n",
    "    for i in range(len(CC)):\n",
    "        if CC[i][0]==country:\n",
    "            break\n",
    "        idx+=1\n",
    "    return CC[idx][1]        \n",
    "    \n",
    "\n",
    "udf_currency = F.udf(get_currencycode, StringType())\n",
    "\n",
    "\n",
    "df = df.withColumn('salary_currency', udf_currency(F.col('country')))"
   ]
  },
  {
   "cell_type": "code",
   "execution_count": 332,
   "metadata": {},
   "outputs": [
    {
     "name": "stdout",
     "output_type": "stream",
     "text": [
      "+------+--------------------+----------+--------------------+--------------------+--------------------+--------------------+-------------+----------------+-------------+---------------+-------------------+--------------------+--------------------+--------------------+----------+-------+-----+---------------+----------+----------+\n",
      "|job_id|               title|department|     company_profile|         description|        requirements|            benefits|telecommuting|has_company_logo|has_questions|employment_type|required_experience|  required_education|            industry|            function|fraudulent|country|state|salary_currency|salary_min|salary_max|\n",
      "+------+--------------------+----------+--------------------+--------------------+--------------------+--------------------+-------------+----------------+-------------+---------------+-------------------+--------------------+--------------------+--------------------+----------+-------+-----+---------------+----------+----------+\n",
      "|     1|    Marketing Intern| Marketing|We're Food52, and...|Food52, a fast-gr...|Experience with c...|                null|            0|               1|            0|          Other|         Internship|                null|                null|           Marketing|         0|     us|   ny|            usd|      null|      null|\n",
      "|     2|Customer Service ...|   Success|90 Seconds, the w...|Organised - Focus...|What we expect fr...|What you will get...|            0|               1|            0|      Full-time|     Not Applicable|                null|Marketing and Adv...|    Customer Service|         0|     nz| null|            nzd|      null|      null|\n",
      "|     3|Commissioning Mac...|      null|Valor Services pr...|Our client, locat...|Implement pre-com...|                null|            0|               1|            0|           null|               null|                null|                null|                null|         0|     us|   ia|            usd|      null|      null|\n",
      "|     4|Account Executive...|     Sales|Our passion for i...|THE COMPANY: ESRI...|EDUCATION: Bachel...|Our culture is an...|            0|               1|            0|      Full-time|   Mid-Senior level|   Bachelor's Degree|   Computer Software|               Sales|         0|     us|   dc|            usd|      null|      null|\n",
      "|     5| Bill Review Manager|      null|SpotSource Soluti...|JOB TITLE: Itemiz...|QUALIFICATIONS:RN...|Full Benefits Off...|            0|               1|            1|      Full-time|   Mid-Senior level|   Bachelor's Degree|Hospital & Health...|Health Care Provider|         0|     us|   fl|            usd|      null|      null|\n",
      "|     6|    Accounting Clerk|      null|                null|Job OverviewApex ...|                null|                null|            0|               0|            0|           null|               null|                null|                null|                null|         0|     us|   md|            usd|      null|      null|\n",
      "|     7|Head of Content (...|ANDROIDPIT|Founded in 2009, ...|Your Responsibili...|Your Know-How:   ...|Your Benefits: Be...|            0|               1|            1|      Full-time|   Mid-Senior level|     Master's Degree|        Online Media|          Management|         0|     de|   be|            eur|   20000.0|   28000.0|\n",
      "|     8|Lead Guest Servic...|      null|Airenvy’s mission...|Who is Airenvy?He...|Experience with C...|Competitive Pay. ...|            0|               1|            1|           null|               null|                null|                null|                null|         0|     us|   ca|            usd|      null|      null|\n",
      "|     9|          HP BSM SME|      null|Solutions3 is a w...|Implementation/Co...|MUST BE A US CITI...|                null|            0|               1|            1|      Full-time|          Associate|                null|Information Techn...|                null|         0|     us|   fl|            usd|      null|      null|\n",
      "|    10|Customer Service ...|      null|Novitex Enterpris...|The Customer Serv...|Minimum Requireme...|                null|            0|               1|            0|      Part-time|        Entry level|High School or eq...|  Financial Services|    Customer Service|         0|     us|   az|            usd|      null|      null|\n",
      "|    11|ASP.net Developer...|      null|                null|Position : #URL_8...|Position : #URL_8...|Benefits - FullBo...|            0|               0|            0|      Full-time|   Mid-Senior level|   Bachelor's Degree|Information Techn...|Information Techn...|         0|     us|   nj|            usd|  100000.0|  120000.0|\n",
      "|    12|Talent Sourcer (6...|        HR|Want to build a 2...|TransferWise is t...|We’re looking for...|You will join one...|            0|               1|            0|           null|               null|                null|                null|                null|         0|     gb|  lnd|            gbp|      null|      null|\n",
      "|    13|Applications Deve...|      null|Novitex Enterpris...|The Applications ...|Requirements:4 – ...|                null|            0|               1|            0|      Full-time|          Associate|   Bachelor's Degree|Management Consul...|Information Techn...|         0|     us|   ct|            usd|      null|      null|\n",
      "|    14|          Installers|      null|Growing event pro...|Event Industry In...|Valid driver's li...|                null|            0|               1|            1|      Full-time|     Not Applicable|         Unspecified|     Events Services|               Other|         0|     us|   fl|            usd|      null|      null|\n",
      "|    15|Account Executive...|     Sales|Adthena is the UK...|Are you intereste...|You’ll need to be...|In return we'll p...|            0|               1|            0|      Full-time|          Associate|   Bachelor's Degree|            Internet|               Sales|         0|     au|  nsw|            aud|      null|      null|\n",
      "|    16|VP of Sales - Vau...|     Sales|Jungle Ventures i...|About Vault Drago...|Key Superpowers3-...|Basic: SGD 120,00...|            0|               1|            1|      Full-time|          Executive|   Bachelor's Degree| Facilities Services|               Sales|         0|     sg|   01|            sgd|  120000.0|  150000.0|\n",
      "|    17| Hands-On QA Leader |       R&D|At HoneyBook we’r...|We are looking fo...|Previous experien...|                null|            0|               1|            0|      Full-time|   Mid-Senior level|                null|            Internet|         Engineering|         0|     il| null|            ils|      null|      null|\n",
      "|    18|Southend-on-Sea T...|      null|Established on th...|Government fundin...|16-18 year olds o...|   Career prospects.|            0|               1|            1|           null|               null|                null|                null|                null|         0|     gb|  sos|            gbp|      null|      null|\n",
      "|    19|     Visual Designer|      null|Kettle is an inde...|Kettle is hiring ...|                null|                null|            0|               1|            0|           null|               null|                null|                null|                null|         0|     us|   ny|            usd|      null|      null|\n",
      "|    20|Process Controls ...|      null|We Provide Full T...|Experienced Proce...|Must have 5 or mo...|                null|            0|               0|            0|      Full-time|               null|                null|                null|                null|         0|     us|   pa|            usd|      null|      null|\n",
      "+------+--------------------+----------+--------------------+--------------------+--------------------+--------------------+-------------+----------------+-------------+---------------+-------------------+--------------------+--------------------+--------------------+----------+-------+-----+---------------+----------+----------+\n",
      "only showing top 20 rows\n",
      "\n"
     ]
    }
   ],
   "source": [
    "from pyspark.sql.types import FloatType\n",
    "\n",
    "def get_minRange(salary):\n",
    "    if salary is None:\n",
    "        return None\n",
    "    else:\n",
    "        salary_range = salary.split(sep = \"-\")\n",
    "        return float(salary_range[0])\n",
    "\n",
    "def get_maxRange(salary):\n",
    "    if salary is None:\n",
    "        return None\n",
    "    else:\n",
    "        salary_range = salary.split(sep = \"-\")\n",
    "        return float(salary_range[1])\n",
    "\n",
    "udf_minRange = F.udf(get_minRange, FloatType())\n",
    "udf_maxRange = F.udf(get_maxRange, FloatType())\n",
    "\n",
    "df = df.withColumn('salary_min', udf_minRange(F.col('salary_range')))\n",
    "df = df.withColumn('salary_max', udf_maxRange(F.col('salary_range')))\n",
    "\n",
    "df = df.drop(F.col('salary_range'))\n",
    "\n",
    "df.show()"
   ]
  },
  {
   "cell_type": "code",
   "execution_count": null,
   "metadata": {},
   "outputs": [],
   "source": []
  },
  {
   "cell_type": "code",
   "execution_count": null,
   "metadata": {},
   "outputs": [],
   "source": []
  },
  {
   "cell_type": "code",
   "execution_count": null,
   "metadata": {},
   "outputs": [],
   "source": []
  },
  {
   "cell_type": "code",
   "execution_count": null,
   "metadata": {},
   "outputs": [],
   "source": []
  },
  {
   "cell_type": "code",
   "execution_count": null,
   "metadata": {},
   "outputs": [],
   "source": []
  }
 ],
 "metadata": {
  "kernelspec": {
   "display_name": "Python 3",
   "language": "python",
   "name": "python3"
  },
  "language_info": {
   "codemirror_mode": {
    "name": "ipython",
    "version": 3
   },
   "file_extension": ".py",
   "mimetype": "text/x-python",
   "name": "python",
   "nbconvert_exporter": "python",
   "pygments_lexer": "ipython3",
   "version": "3.8.3"
  }
 },
 "nbformat": 4,
 "nbformat_minor": 4
}
