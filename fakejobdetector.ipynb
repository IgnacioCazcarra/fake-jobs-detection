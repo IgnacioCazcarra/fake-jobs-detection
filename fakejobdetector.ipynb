{
 "cells": [
  {
   "cell_type": "code",
   "execution_count": 440,
   "metadata": {},
   "outputs": [],
   "source": [
    "from pyspark.sql import SparkSession\n",
    "import pyspark.sql.functions as F\n",
    "from pyspark import SparkContext, SparkConf\n",
    "\n",
    "spark = SparkSession.builder.appName(\"Fake-job-prediction\").getOrCreate()"
   ]
  },
  {
   "cell_type": "code",
   "execution_count": 441,
   "metadata": {},
   "outputs": [
    {
     "data": {
      "text/html": [
       "<style>\n",
       "div.output_area pre {\n",
       "    white-space: pre;\n",
       "}\n",
       "</style>\n"
      ],
      "text/plain": [
       "<IPython.core.display.HTML object>"
      ]
     },
     "metadata": {},
     "output_type": "display_data"
    }
   ],
   "source": [
    "%%html\n",
    "<style>\n",
    "div.output_area pre {\n",
    "    white-space: pre;\n",
    "}\n",
    "</style>"
   ]
  },
  {
   "cell_type": "code",
   "execution_count": 442,
   "metadata": {
    "scrolled": true
   },
   "outputs": [
    {
     "name": "stdout",
     "output_type": "stream",
     "text": [
      "+------+--------------------+--------------------+----------+-------------+--------------------+--------------------+--------------------+--------------------+-------------+----------------+-------------+---------------+-------------------+--------------------+--------------------+--------------------+----------+\n",
      "|job_id|               title|            location|department| salary_range|     company_profile|         description|        requirements|            benefits|telecommuting|has_company_logo|has_questions|employment_type|required_experience|  required_education|            industry|            function|fraudulent|\n",
      "+------+--------------------+--------------------+----------+-------------+--------------------+--------------------+--------------------+--------------------+-------------+----------------+-------------+---------------+-------------------+--------------------+--------------------+--------------------+----------+\n",
      "|     1|    Marketing Intern|    US, NY, New York| Marketing|         null|We're Food52, and...|Food52, a fast-gr...|Experience with c...|                null|            0|               1|            0|          Other|         Internship|                null|                null|           Marketing|         0|\n",
      "|     2|Customer Service ...|      NZ, , Auckland|   Success|         null|90 Seconds, the w...|Organised - Focus...|What we expect fr...|What you will get...|            0|               1|            0|      Full-time|     Not Applicable|                null|Marketing and Adv...|    Customer Service|         0|\n",
      "|     3|Commissioning Mac...|       US, IA, Wever|      null|         null|Valor Services pr...|Our client, locat...|Implement pre-com...|                null|            0|               1|            0|           null|               null|                null|                null|                null|         0|\n",
      "|     4|Account Executive...|  US, DC, Washington|     Sales|         null|Our passion for i...|THE COMPANY: ESRI...|EDUCATION: Bachel...|Our culture is an...|            0|               1|            0|      Full-time|   Mid-Senior level|   Bachelor's Degree|   Computer Software|               Sales|         0|\n",
      "|     5| Bill Review Manager|  US, FL, Fort Worth|      null|         null|SpotSource Soluti...|JOB TITLE: Itemiz...|QUALIFICATIONS:RN...|Full Benefits Off...|            0|               1|            1|      Full-time|   Mid-Senior level|   Bachelor's Degree|Hospital & Health...|Health Care Provider|         0|\n",
      "|     6|    Accounting Clerk|            US, MD, |      null|         null|                null|Job OverviewApex ...|                null|                null|            0|               0|            0|           null|               null|                null|                null|                null|         0|\n",
      "|     7|Head of Content (...|      DE, BE, Berlin|ANDROIDPIT|  20000-28000|Founded in 2009, ...|Your Responsibili...|Your Know-How:   ...|Your Benefits: Be...|            0|               1|            1|      Full-time|   Mid-Senior level|     Master's Degree|        Online Media|          Management|         0|\n",
      "|     8|Lead Guest Servic...|US, CA, San Franc...|      null|         null|Airenvy’s mission...|Who is Airenvy?He...|Experience with C...|Competitive Pay. ...|            0|               1|            1|           null|               null|                null|                null|                null|         0|\n",
      "|     9|          HP BSM SME|   US, FL, Pensacola|      null|         null|Solutions3 is a w...|Implementation/Co...|MUST BE A US CITI...|                null|            0|               1|            1|      Full-time|          Associate|                null|Information Techn...|                null|         0|\n",
      "|    10|Customer Service ...|     US, AZ, Phoenix|      null|         null|Novitex Enterpris...|The Customer Serv...|Minimum Requireme...|                null|            0|               1|            0|      Part-time|        Entry level|High School or eq...|  Financial Services|    Customer Service|         0|\n",
      "|    11|ASP.net Developer...| US, NJ, Jersey City|      null|100000-120000|                null|Position : #URL_8...|Position : #URL_8...|Benefits - FullBo...|            0|               0|            0|      Full-time|   Mid-Senior level|   Bachelor's Degree|Information Techn...|Information Techn...|         0|\n",
      "|    12|Talent Sourcer (6...|     GB, LND, London|        HR|         null|Want to build a 2...|TransferWise is t...|We’re looking for...|You will join one...|            0|               1|            0|           null|               null|                null|                null|                null|         0|\n",
      "|    13|Applications Deve...|    US, CT, Stamford|      null|         null|Novitex Enterpris...|The Applications ...|Requirements:4 – ...|                null|            0|               1|            0|      Full-time|          Associate|   Bachelor's Degree|Management Consul...|Information Techn...|         0|\n",
      "|    14|          Installers|     US, FL, Orlando|      null|         null|Growing event pro...|Event Industry In...|Valid driver's li...|                null|            0|               1|            1|      Full-time|     Not Applicable|         Unspecified|     Events Services|               Other|         0|\n",
      "|    15|Account Executive...|     AU, NSW, Sydney|     Sales|         null|Adthena is the UK...|Are you intereste...|You’ll need to be...|In return we'll p...|            0|               1|            0|      Full-time|          Associate|   Bachelor's Degree|            Internet|               Sales|         0|\n",
      "|    16|VP of Sales - Vau...|   SG, 01, Singapore|     Sales|120000-150000|Jungle Ventures i...|About Vault Drago...|Key Superpowers3-...|Basic: SGD 120,00...|            0|               1|            1|      Full-time|          Executive|   Bachelor's Degree| Facilities Services|               Sales|         0|\n",
      "|    17| Hands-On QA Leader |IL, , Tel Aviv, I...|       R&D|         null|At HoneyBook we’r...|We are looking fo...|Previous experien...|                null|            0|               1|            0|      Full-time|   Mid-Senior level|                null|            Internet|         Engineering|         0|\n",
      "|    18|Southend-on-Sea T...|GB, SOS, Southend...|      null|         null|Established on th...|Government fundin...|16-18 year olds o...|   Career prospects.|            0|               1|            1|           null|               null|                null|                null|                null|         0|\n",
      "|    19|     Visual Designer|    US, NY, New York|      null|         null|Kettle is an inde...|Kettle is hiring ...|                null|                null|            0|               1|            0|           null|               null|                null|                null|                null|         0|\n",
      "|    20|Process Controls ...|US, PA, USA North...|      null|         null|We Provide Full T...|Experienced Proce...|Must have 5 or mo...|                null|            0|               0|            0|      Full-time|               null|                null|                null|                null|         0|\n",
      "+------+--------------------+--------------------+----------+-------------+--------------------+--------------------+--------------------+--------------------+-------------+----------------+-------------+---------------+-------------------+--------------------+--------------------+--------------------+----------+\n",
      "only showing top 20 rows\n",
      "\n"
     ]
    }
   ],
   "source": [
    "df = spark.read.format(\"csv\").option(\"header\", \"true\").option(\"escape\",\"\\\"\").option(\"quote\",\"\\\"\").load(\"fake_job_postings.csv\", sep=\",\")\n",
    "\n",
    "df.show(20)"
   ]
  },
  {
   "cell_type": "code",
   "execution_count": 443,
   "metadata": {},
   "outputs": [
    {
     "data": {
      "text/plain": [
       "[('job_id', 'string'),\n",
       " ('title', 'string'),\n",
       " ('location', 'string'),\n",
       " ('department', 'string'),\n",
       " ('salary_range', 'string'),\n",
       " ('company_profile', 'string'),\n",
       " ('description', 'string'),\n",
       " ('requirements', 'string'),\n",
       " ('benefits', 'string'),\n",
       " ('telecommuting', 'string'),\n",
       " ('has_company_logo', 'string'),\n",
       " ('has_questions', 'string'),\n",
       " ('employment_type', 'string'),\n",
       " ('required_experience', 'string'),\n",
       " ('required_education', 'string'),\n",
       " ('industry', 'string'),\n",
       " ('function', 'string'),\n",
       " ('fraudulent', 'string')]"
      ]
     },
     "execution_count": 443,
     "metadata": {},
     "output_type": "execute_result"
    }
   ],
   "source": [
    "df.dtypes"
   ]
  },
  {
   "cell_type": "code",
   "execution_count": 444,
   "metadata": {},
   "outputs": [],
   "source": [
    "from pyspark.sql.types import StringType\n",
    "\n",
    "def get_country(location):\n",
    "    if location is None:\n",
    "        return None\n",
    "    else:\n",
    "        location_list = location.strip().split(sep = \",\")\n",
    "        return location_list[0].lower()\n",
    "\n",
    "def get_state(location):\n",
    "    if location is None:\n",
    "        return None\n",
    "    else:\n",
    "        location_list = location.strip().split(sep = \",\")\n",
    "        if(len(location_list)>1 and not location_list[1].isspace()):\n",
    "            return location_list[1].lower()\n",
    "        else: \n",
    "            return None\n",
    "\n",
    "udf_country = F.udf(get_country, StringType())\n",
    "udf_state = F.udf(get_state, StringType())\n"
   ]
  },
  {
   "cell_type": "code",
   "execution_count": 445,
   "metadata": {},
   "outputs": [
    {
     "name": "stdout",
     "output_type": "stream",
     "text": [
      "+------+--------------------+----------+------------+--------------------+--------------------+--------------------+--------------------+-------------+----------------+-------------+---------------+-------------------+------------------+--------------------+--------------------+----------+-------+-----+\n",
      "|job_id|               title|department|salary_range|     company_profile|         description|        requirements|            benefits|telecommuting|has_company_logo|has_questions|employment_type|required_experience|required_education|            industry|            function|fraudulent|country|state|\n",
      "+------+--------------------+----------+------------+--------------------+--------------------+--------------------+--------------------+-------------+----------------+-------------+---------------+-------------------+------------------+--------------------+--------------------+----------+-------+-----+\n",
      "|     1|    Marketing Intern| Marketing|        null|We're Food52, and...|Food52, a fast-gr...|Experience with c...|                null|            0|               1|            0|          Other|         Internship|              null|                null|           Marketing|         0|     us|   ny|\n",
      "|     2|Customer Service ...|   Success|        null|90 Seconds, the w...|Organised - Focus...|What we expect fr...|What you will get...|            0|               1|            0|      Full-time|     Not Applicable|              null|Marketing and Adv...|    Customer Service|         0|     nz| null|\n",
      "|     3|Commissioning Mac...|      null|        null|Valor Services pr...|Our client, locat...|Implement pre-com...|                null|            0|               1|            0|           null|               null|              null|                null|                null|         0|     us|   ia|\n",
      "|     4|Account Executive...|     Sales|        null|Our passion for i...|THE COMPANY: ESRI...|EDUCATION: Bachel...|Our culture is an...|            0|               1|            0|      Full-time|   Mid-Senior level| Bachelor's Degree|   Computer Software|               Sales|         0|     us|   dc|\n",
      "|     5| Bill Review Manager|      null|        null|SpotSource Soluti...|JOB TITLE: Itemiz...|QUALIFICATIONS:RN...|Full Benefits Off...|            0|               1|            1|      Full-time|   Mid-Senior level| Bachelor's Degree|Hospital & Health...|Health Care Provider|         0|     us|   fl|\n",
      "+------+--------------------+----------+------------+--------------------+--------------------+--------------------+--------------------+-------------+----------------+-------------+---------------+-------------------+------------------+--------------------+--------------------+----------+-------+-----+\n",
      "only showing top 5 rows\n",
      "\n"
     ]
    }
   ],
   "source": [
    "df = df.withColumn(\"country\", udf_country(F.col('location')))\n",
    "df = df.withColumn(\"state\", udf_state(F.col('location')))\n",
    "\n",
    "#Due to the poor form of the location column, country and state are the only useful columns we can get.\n",
    "df = df.drop(F.col('location'))\n",
    "\n",
    "df.show(5)"
   ]
  },
  {
   "cell_type": "markdown",
   "metadata": {},
   "source": [
    "## Since the salary_range column may vary because of different currencies, we get the currency for each country"
   ]
  },
  {
   "cell_type": "code",
   "execution_count": 446,
   "metadata": {},
   "outputs": [
    {
     "data": {
      "text/plain": [
       "91"
      ]
     },
     "execution_count": 446,
     "metadata": {},
     "output_type": "execute_result"
    }
   ],
   "source": [
    "df.select(\"country\").distinct().count()"
   ]
  },
  {
   "cell_type": "code",
   "execution_count": 447,
   "metadata": {},
   "outputs": [],
   "source": [
    "from bs4 import BeautifulSoup\n",
    "import requests\n",
    "\n",
    "URL = \"https://unece.org/fileadmin/DAM/cefact/recommendations/bkup_htm/cocucod.htm\"\n",
    "r = requests.get(URL)\n",
    "soup = BeautifulSoup(r.content)"
   ]
  },
  {
   "cell_type": "code",
   "execution_count": 448,
   "metadata": {},
   "outputs": [
    {
     "data": {
      "text/plain": [
       "250"
      ]
     },
     "execution_count": 448,
     "metadata": {},
     "output_type": "execute_result"
    }
   ],
   "source": [
    "country_codes = []\n",
    "currency_codes = []\n",
    "\n",
    "info = soup.find_all(\"font\", attrs={'color':'#000000','size':'1','face':'Verdana'})\n",
    "\n",
    "country_codes = [info[x].text.lower() for x in range(1526) if len(info[x].text)==2]\n",
    "\n",
    "currency_codes = [info[x].text.lower() for x in range(1526) \n",
    "                  if len(info[x].text)==3 \n",
    "                  and not info[x].text.isnumeric() \n",
    "                  and info[x].text.isupper()]\n",
    "\n",
    "#There are three countries with no official currency in this table, so we have to drop them.\n",
    "remove_list = ['gs','ps','aq']\n",
    "\n",
    "country_codes = [x for x in country_codes if x not in remove_list]\n",
    "\n",
    "CC = list(zip(country_codes,currency_codes))\n",
    "\n",
    "len(CC)"
   ]
  },
  {
   "cell_type": "code",
   "execution_count": 449,
   "metadata": {},
   "outputs": [],
   "source": [
    "def get_currencycode(country):\n",
    "    idx = 0\n",
    "    for i in range(len(CC)):\n",
    "        if CC[i][0]==country:\n",
    "            return CC[idx][1]\n",
    "        idx+=1\n",
    "    return None       \n",
    "    \n",
    "\n",
    "udf_currency = F.udf(get_currencycode, StringType())\n",
    "\n",
    "\n",
    "df = df.withColumn('salary_currency', udf_currency(F.col('country')))"
   ]
  },
  {
   "cell_type": "code",
   "execution_count": 450,
   "metadata": {},
   "outputs": [
    {
     "name": "stdout",
     "output_type": "stream",
     "text": [
      "+------+--------------------+----------+--------------------+--------------------+--------------------+--------------------+-------------+----------------+-------------+---------------+-------------------+------------------+--------------------+--------------------+----------+-------+-----+---------------+----------+----------+\n",
      "|job_id|               title|department|     company_profile|         description|        requirements|            benefits|telecommuting|has_company_logo|has_questions|employment_type|required_experience|required_education|            industry|            function|fraudulent|country|state|salary_currency|salary_min|salary_max|\n",
      "+------+--------------------+----------+--------------------+--------------------+--------------------+--------------------+-------------+----------------+-------------+---------------+-------------------+------------------+--------------------+--------------------+----------+-------+-----+---------------+----------+----------+\n",
      "|     1|    Marketing Intern| Marketing|We're Food52, and...|Food52, a fast-gr...|Experience with c...|                null|            0|               1|            0|          Other|         Internship|              null|                null|           Marketing|         0|     us|   ny|            usd|      null|      null|\n",
      "|     2|Customer Service ...|   Success|90 Seconds, the w...|Organised - Focus...|What we expect fr...|What you will get...|            0|               1|            0|      Full-time|     Not Applicable|              null|Marketing and Adv...|    Customer Service|         0|     nz| null|            nzd|      null|      null|\n",
      "|     3|Commissioning Mac...|      null|Valor Services pr...|Our client, locat...|Implement pre-com...|                null|            0|               1|            0|           null|               null|              null|                null|                null|         0|     us|   ia|            usd|      null|      null|\n",
      "|     4|Account Executive...|     Sales|Our passion for i...|THE COMPANY: ESRI...|EDUCATION: Bachel...|Our culture is an...|            0|               1|            0|      Full-time|   Mid-Senior level| Bachelor's Degree|   Computer Software|               Sales|         0|     us|   dc|            usd|      null|      null|\n",
      "|     5| Bill Review Manager|      null|SpotSource Soluti...|JOB TITLE: Itemiz...|QUALIFICATIONS:RN...|Full Benefits Off...|            0|               1|            1|      Full-time|   Mid-Senior level| Bachelor's Degree|Hospital & Health...|Health Care Provider|         0|     us|   fl|            usd|      null|      null|\n",
      "+------+--------------------+----------+--------------------+--------------------+--------------------+--------------------+-------------+----------------+-------------+---------------+-------------------+------------------+--------------------+--------------------+----------+-------+-----+---------------+----------+----------+\n",
      "only showing top 5 rows\n",
      "\n"
     ]
    }
   ],
   "source": [
    "from pyspark.sql.types import IntegerType\n",
    "\n",
    "df = df.withColumn('salary_range', F.lower(F.col('salary_range')))\n",
    "\n",
    "def get_minRange(salary):\n",
    "    if salary is None:\n",
    "        return None\n",
    "    salary_range = salary.strip().split(sep = \"-\")\n",
    "    try: \n",
    "        r = int(salary_range[0])\n",
    "        return r \n",
    "    except ValueError: \n",
    "        return None\n",
    "\n",
    "def get_maxRange(salary):\n",
    "    if salary is None:\n",
    "        return None\n",
    "    salary_range = salary.strip().split(sep = \"-\")\n",
    "    try:\n",
    "        if(len(salary_range)==1):\n",
    "            r = int(salary_range[0])    \n",
    "        else:\n",
    "            r = int(salary_range[1])\n",
    "        return r\n",
    "    except ValueError: \n",
    "        return None\n",
    "\n",
    "udf_minRange = F.udf(get_minRange, IntegerType())\n",
    "udf_maxRange = F.udf(get_maxRange, IntegerType())\n",
    "\n",
    "df = df.withColumn('salary_min', udf_minRange(F.col('salary_range')))\n",
    "df = df.withColumn('salary_max', udf_maxRange(F.col('salary_range')))\n",
    "\n",
    "df = df.drop(F.col('salary_range'))\n",
    "\n",
    "df.show(5)"
   ]
  },
  {
   "cell_type": "code",
   "execution_count": 451,
   "metadata": {},
   "outputs": [],
   "source": [
    "URL_CURRENCIES = 'https://api.exchangerate-api.com/v4/latest/USD'\n",
    "\n",
    "curr = requests.get(URL_CURRENCIES).json()\n",
    "curr = curr['rates']\n",
    "\n",
    "curr =  {k.lower(): v for k, v in curr.items()}"
   ]
  },
  {
   "cell_type": "code",
   "execution_count": 452,
   "metadata": {},
   "outputs": [],
   "source": [
    "def get_usd(number, currency):\n",
    "    if number is None or currency is None:\n",
    "        return None\n",
    "    else:\n",
    "        return int(number/curr[currency])\n",
    "\n",
    "udf_usd = F.udf(get_usd, IntegerType())\n",
    "\n",
    "df = df.withColumn('salary_min', udf_usd(F.col('salary_min'),F.col('salary_currency')))\n",
    "df = df.withColumn('salary_max', udf_usd(F.col('salary_max'),F.col('salary_currency')))"
   ]
  },
  {
   "cell_type": "code",
   "execution_count": 453,
   "metadata": {},
   "outputs": [
    {
     "name": "stdout",
     "output_type": "stream",
     "text": [
      "+------+--------------------+----------+--------------------+--------------------+--------------------+--------------------+-------------+----------------+-------------+---------------+-------------------+--------------------+--------------------+--------------------+----------+-------+-----+---------------+----------+----------+\n",
      "|job_id|               title|department|     company_profile|         description|        requirements|            benefits|telecommuting|has_company_logo|has_questions|employment_type|required_experience|  required_education|            industry|            function|fraudulent|country|state|salary_currency|salary_min|salary_max|\n",
      "+------+--------------------+----------+--------------------+--------------------+--------------------+--------------------+-------------+----------------+-------------+---------------+-------------------+--------------------+--------------------+--------------------+----------+-------+-----+---------------+----------+----------+\n",
      "|     1|    Marketing Intern| Marketing|We're Food52, and...|Food52, a fast-gr...|Experience with c...|                null|            0|               1|            0|          Other|         Internship|                null|                null|           Marketing|         0|     us|   ny|            usd|      null|      null|\n",
      "|     2|Customer Service ...|   Success|90 Seconds, the w...|Organised - Focus...|What we expect fr...|What you will get...|            0|               1|            0|      Full-time|     Not Applicable|                null|Marketing and Adv...|    Customer Service|         0|     nz| null|            nzd|      null|      null|\n",
      "|     3|Commissioning Mac...|      null|Valor Services pr...|Our client, locat...|Implement pre-com...|                null|            0|               1|            0|           null|               null|                null|                null|                null|         0|     us|   ia|            usd|      null|      null|\n",
      "|     4|Account Executive...|     Sales|Our passion for i...|THE COMPANY: ESRI...|EDUCATION: Bachel...|Our culture is an...|            0|               1|            0|      Full-time|   Mid-Senior level|   Bachelor's Degree|   Computer Software|               Sales|         0|     us|   dc|            usd|      null|      null|\n",
      "|     5| Bill Review Manager|      null|SpotSource Soluti...|JOB TITLE: Itemiz...|QUALIFICATIONS:RN...|Full Benefits Off...|            0|               1|            1|      Full-time|   Mid-Senior level|   Bachelor's Degree|Hospital & Health...|Health Care Provider|         0|     us|   fl|            usd|      null|      null|\n",
      "|     6|    Accounting Clerk|      null|                null|Job OverviewApex ...|                null|                null|            0|               0|            0|           null|               null|                null|                null|                null|         0|     us|   md|            usd|      null|      null|\n",
      "|     7|Head of Content (...|ANDROIDPIT|Founded in 2009, ...|Your Responsibili...|Your Know-How:   ...|Your Benefits: Be...|            0|               1|            1|      Full-time|   Mid-Senior level|     Master's Degree|        Online Media|          Management|         0|     de|   be|            eur|     24163|     33828|\n",
      "|     8|Lead Guest Servic...|      null|Airenvy’s mission...|Who is Airenvy?He...|Experience with C...|Competitive Pay. ...|            0|               1|            1|           null|               null|                null|                null|                null|         0|     us|   ca|            usd|      null|      null|\n",
      "|     9|          HP BSM SME|      null|Solutions3 is a w...|Implementation/Co...|MUST BE A US CITI...|                null|            0|               1|            1|      Full-time|          Associate|                null|Information Techn...|                null|         0|     us|   fl|            usd|      null|      null|\n",
      "|    10|Customer Service ...|      null|Novitex Enterpris...|The Customer Serv...|Minimum Requireme...|                null|            0|               1|            0|      Part-time|        Entry level|High School or eq...|  Financial Services|    Customer Service|         0|     us|   az|            usd|      null|      null|\n",
      "|    11|ASP.net Developer...|      null|                null|Position : #URL_8...|Position : #URL_8...|Benefits - FullBo...|            0|               0|            0|      Full-time|   Mid-Senior level|   Bachelor's Degree|Information Techn...|Information Techn...|         0|     us|   nj|            usd|    100000|    120000|\n",
      "|    12|Talent Sourcer (6...|        HR|Want to build a 2...|TransferWise is t...|We’re looking for...|You will join one...|            0|               1|            0|           null|               null|                null|                null|                null|         0|     gb|  lnd|            gbp|      null|      null|\n",
      "|    13|Applications Deve...|      null|Novitex Enterpris...|The Applications ...|Requirements:4 – ...|                null|            0|               1|            0|      Full-time|          Associate|   Bachelor's Degree|Management Consul...|Information Techn...|         0|     us|   ct|            usd|      null|      null|\n",
      "|    14|          Installers|      null|Growing event pro...|Event Industry In...|Valid driver's li...|                null|            0|               1|            1|      Full-time|     Not Applicable|         Unspecified|     Events Services|               Other|         0|     us|   fl|            usd|      null|      null|\n",
      "|    15|Account Executive...|     Sales|Adthena is the UK...|Are you intereste...|You’ll need to be...|In return we'll p...|            0|               1|            0|      Full-time|          Associate|   Bachelor's Degree|            Internet|               Sales|         0|     au|  nsw|            aud|      null|      null|\n",
      "|    16|VP of Sales - Vau...|     Sales|Jungle Ventures i...|About Vault Drago...|Key Superpowers3-...|Basic: SGD 120,00...|            0|               1|            1|      Full-time|          Executive|   Bachelor's Degree| Facilities Services|               Sales|         0|     sg|   01|            sgd|     90373|    112966|\n",
      "|    17| Hands-On QA Leader |       R&D|At HoneyBook we’r...|We are looking fo...|Previous experien...|                null|            0|               1|            0|      Full-time|   Mid-Senior level|                null|            Internet|         Engineering|         0|     il| null|            ils|      null|      null|\n",
      "|    18|Southend-on-Sea T...|      null|Established on th...|Government fundin...|16-18 year olds o...|   Career prospects.|            0|               1|            1|           null|               null|                null|                null|                null|         0|     gb|  sos|            gbp|      null|      null|\n",
      "|    19|     Visual Designer|      null|Kettle is an inde...|Kettle is hiring ...|                null|                null|            0|               1|            0|           null|               null|                null|                null|                null|         0|     us|   ny|            usd|      null|      null|\n",
      "|    20|Process Controls ...|      null|We Provide Full T...|Experienced Proce...|Must have 5 or mo...|                null|            0|               0|            0|      Full-time|               null|                null|                null|                null|         0|     us|   pa|            usd|      null|      null|\n",
      "+------+--------------------+----------+--------------------+--------------------+--------------------+--------------------+-------------+----------------+-------------+---------------+-------------------+--------------------+--------------------+--------------------+----------+-------+-----+---------------+----------+----------+\n",
      "only showing top 20 rows\n",
      "\n"
     ]
    }
   ],
   "source": [
    "df.show()"
   ]
  },
  {
   "cell_type": "code",
   "execution_count": null,
   "metadata": {},
   "outputs": [],
   "source": []
  },
  {
   "cell_type": "code",
   "execution_count": null,
   "metadata": {},
   "outputs": [],
   "source": []
  },
  {
   "cell_type": "code",
   "execution_count": null,
   "metadata": {},
   "outputs": [],
   "source": []
  },
  {
   "cell_type": "code",
   "execution_count": null,
   "metadata": {},
   "outputs": [],
   "source": []
  },
  {
   "cell_type": "code",
   "execution_count": null,
   "metadata": {},
   "outputs": [],
   "source": []
  }
 ],
 "metadata": {
  "kernelspec": {
   "display_name": "Python 3",
   "language": "python",
   "name": "python3"
  },
  "language_info": {
   "codemirror_mode": {
    "name": "ipython",
    "version": 3
   },
   "file_extension": ".py",
   "mimetype": "text/x-python",
   "name": "python",
   "nbconvert_exporter": "python",
   "pygments_lexer": "ipython3",
   "version": "3.8.3"
  }
 },
 "nbformat": 4,
 "nbformat_minor": 4
}
