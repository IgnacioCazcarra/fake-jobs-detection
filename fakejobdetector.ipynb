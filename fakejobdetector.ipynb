{
 "cells": [
  {
   "cell_type": "code",
   "execution_count": 86,
   "metadata": {},
   "outputs": [],
   "source": [
    "from pyspark.sql import SparkSession\n",
    "import pyspark.sql.functions as F\n",
    "from pyspark import SparkContext, SparkConf\n",
    "\n",
    "spark = SparkSession.builder.appName(\"Fake-job-prediction\").getOrCreate()"
   ]
  },
  {
   "cell_type": "code",
   "execution_count": 87,
   "metadata": {},
   "outputs": [
    {
     "data": {
      "text/html": [
       "<style>\n",
       "div.output_area pre {\n",
       "    white-space: pre;\n",
       "}\n",
       "</style>\n"
      ],
      "text/plain": [
       "<IPython.core.display.HTML object>"
      ]
     },
     "metadata": {},
     "output_type": "display_data"
    }
   ],
   "source": [
    "%%html\n",
    "<style>\n",
    "div.output_area pre {\n",
    "    white-space: pre;\n",
    "}\n",
    "</style>"
   ]
  },
  {
   "cell_type": "code",
   "execution_count": 88,
   "metadata": {
    "scrolled": true
   },
   "outputs": [
    {
     "name": "stdout",
     "output_type": "stream",
     "text": [
      "+------+----------------+----------------+----------+------------+--------------------+--------------------+--------------------+--------+-------------+----------------+-------------+---------------+-------------------+------------------+--------+---------+----------+\n",
      "|job_id|           title|        location|department|salary_range|     company_profile|         description|        requirements|benefits|telecommuting|has_company_logo|has_questions|employment_type|required_experience|required_education|industry| function|fraudulent|\n",
      "+------+----------------+----------------+----------+------------+--------------------+--------------------+--------------------+--------+-------------+----------------+-------------+---------------+-------------------+------------------+--------+---------+----------+\n",
      "|     1|Marketing Intern|US, NY, New York| Marketing|        null|We're Food52, and...|Food52, a fast-gr...|Experience with c...|    null|            0|               1|            0|          Other|         Internship|              null|    null|Marketing|         0|\n",
      "+------+----------------+----------------+----------+------------+--------------------+--------------------+--------------------+--------+-------------+----------------+-------------+---------------+-------------------+------------------+--------+---------+----------+\n",
      "only showing top 1 row\n",
      "\n"
     ]
    }
   ],
   "source": [
    "df = spark.read.format(\"csv\").option(\"header\", \"true\").option(\"escape\",\"\\\"\").option(\"quote\",\"\\\"\").load(\"fake_job_postings.csv\", sep=\",\")\n",
    "\n",
    "df.show(1)"
   ]
  },
  {
   "cell_type": "code",
   "execution_count": 89,
   "metadata": {},
   "outputs": [
    {
     "data": {
      "text/plain": [
       "[('job_id', 'string'),\n",
       " ('title', 'string'),\n",
       " ('location', 'string'),\n",
       " ('department', 'string'),\n",
       " ('salary_range', 'string'),\n",
       " ('company_profile', 'string'),\n",
       " ('description', 'string'),\n",
       " ('requirements', 'string'),\n",
       " ('benefits', 'string'),\n",
       " ('telecommuting', 'string'),\n",
       " ('has_company_logo', 'string'),\n",
       " ('has_questions', 'string'),\n",
       " ('employment_type', 'string'),\n",
       " ('required_experience', 'string'),\n",
       " ('required_education', 'string'),\n",
       " ('industry', 'string'),\n",
       " ('function', 'string'),\n",
       " ('fraudulent', 'string')]"
      ]
     },
     "execution_count": 89,
     "metadata": {},
     "output_type": "execute_result"
    }
   ],
   "source": [
    "df.dtypes"
   ]
  },
  {
   "cell_type": "code",
   "execution_count": 90,
   "metadata": {},
   "outputs": [
    {
     "name": "stdout",
     "output_type": "stream",
     "text": [
      "+------+----------------+----------------+----------+------------+--------------------+--------------------+--------------------+--------+-------------+----------------+-------------+---------------+-------------------+------------------+--------+---------+----------+\n",
      "|job_id|           title|        location|department|salary_range|     company_profile|         description|        requirements|benefits|telecommuting|has_company_logo|has_questions|employment_type|required_experience|required_education|industry| function|fraudulent|\n",
      "+------+----------------+----------------+----------+------------+--------------------+--------------------+--------------------+--------+-------------+----------------+-------------+---------------+-------------------+------------------+--------+---------+----------+\n",
      "|     1|marketing intern|us, ny, new york| marketing|        null|we're food52, and...|food52, a fast-gr...|experience with c...|    null|            0|               1|            0|          other|         internship|              null|    null|marketing|         0|\n",
      "+------+----------------+----------------+----------+------------+--------------------+--------------------+--------------------+--------+-------------+----------------+-------------+---------------+-------------------+------------------+--------+---------+----------+\n",
      "only showing top 1 row\n",
      "\n"
     ]
    }
   ],
   "source": [
    "for col in df.columns:\n",
    "    df = df.withColumn(col, F.lower(col))\n",
    "    \n",
    "df.show(1)"
   ]
  },
  {
   "cell_type": "markdown",
   "metadata": {},
   "source": [
    "### We divide the 'location' column into 'country' and 'city'"
   ]
  },
  {
   "cell_type": "code",
   "execution_count": 91,
   "metadata": {},
   "outputs": [],
   "source": [
    "from pyspark.sql.types import StringType\n",
    "\n",
    "def get_country(location):\n",
    "    if location is None:\n",
    "        return None\n",
    "    else:\n",
    "        location_list = location.strip().split(sep = \",\")\n",
    "        return location_list[0]\n",
    "\n",
    "def get_city(location):\n",
    "    if location is None:\n",
    "        return None\n",
    "    else:\n",
    "        location_list = location.strip().split(sep = \",\")\n",
    "        if(len(location_list)>1 and not location_list[1].isspace()):\n",
    "            return location_list[1]\n",
    "        else: \n",
    "            return None\n",
    "\n",
    "udf_country = F.udf(get_country, StringType())\n",
    "udf_city = F.udf(get_city, StringType())\n"
   ]
  },
  {
   "cell_type": "code",
   "execution_count": 92,
   "metadata": {},
   "outputs": [
    {
     "name": "stdout",
     "output_type": "stream",
     "text": [
      "+------+----------------+----------+------------+--------------------+--------------------+--------------------+--------+-------------+----------------+-------------+---------------+-------------------+------------------+--------+---------+----------+-------+----+\n",
      "|job_id|           title|department|salary_range|     company_profile|         description|        requirements|benefits|telecommuting|has_company_logo|has_questions|employment_type|required_experience|required_education|industry| function|fraudulent|country|city|\n",
      "+------+----------------+----------+------------+--------------------+--------------------+--------------------+--------+-------------+----------------+-------------+---------------+-------------------+------------------+--------+---------+----------+-------+----+\n",
      "|     1|marketing intern| marketing|        null|we're food52, and...|food52, a fast-gr...|experience with c...|    null|            0|               1|            0|          other|         internship|              null|    null|marketing|         0|     us|  ny|\n",
      "+------+----------------+----------+------------+--------------------+--------------------+--------------------+--------+-------------+----------------+-------------+---------------+-------------------+------------------+--------+---------+----------+-------+----+\n",
      "only showing top 1 row\n",
      "\n"
     ]
    }
   ],
   "source": [
    "df = df.withColumn(\"country\", udf_country(F.col('location')))\n",
    "df = df.withColumn(\"city\", udf_city(F.col('location')))\n",
    "\n",
    "#Due to the poor form of the location column, country and state are the only useful columns we can get.\n",
    "df = df.drop(F.col('location'))\n",
    "\n",
    "df.show(1)"
   ]
  },
  {
   "cell_type": "markdown",
   "metadata": {},
   "source": [
    "## Since the salary_range column may vary because of different currencies, we get the currency for each country and we convert it to USD. If its not available we leave it as it is."
   ]
  },
  {
   "cell_type": "code",
   "execution_count": 93,
   "metadata": {},
   "outputs": [
    {
     "data": {
      "text/plain": [
       "91"
      ]
     },
     "execution_count": 93,
     "metadata": {},
     "output_type": "execute_result"
    }
   ],
   "source": [
    "df.select(\"country\").distinct().count()"
   ]
  },
  {
   "cell_type": "code",
   "execution_count": 94,
   "metadata": {},
   "outputs": [],
   "source": [
    "from bs4 import BeautifulSoup\n",
    "import requests\n",
    "\n",
    "URL = \"https://unece.org/fileadmin/DAM/cefact/recommendations/bkup_htm/cocucod.htm\"\n",
    "r = requests.get(URL)\n",
    "soup = BeautifulSoup(r.content)"
   ]
  },
  {
   "cell_type": "code",
   "execution_count": 95,
   "metadata": {},
   "outputs": [
    {
     "data": {
      "text/plain": [
       "250"
      ]
     },
     "execution_count": 95,
     "metadata": {},
     "output_type": "execute_result"
    }
   ],
   "source": [
    "country_codes = []\n",
    "currency_codes = []\n",
    "\n",
    "info = soup.find_all(\"font\", attrs={'color':'#000000','size':'1','face':'Verdana'})\n",
    "\n",
    "country_codes = [info[x].text.lower() for x in range(1526) if len(info[x].text)==2]\n",
    "\n",
    "currency_codes = [info[x].text.lower() for x in range(1526) \n",
    "                  if len(info[x].text)==3 \n",
    "                  and not info[x].text.isnumeric() \n",
    "                  and info[x].text.isupper()]\n",
    "\n",
    "#There are three countries with no official currency in this table, so we have to drop them.\n",
    "remove_list = ['gs','ps','aq']\n",
    "\n",
    "country_codes = [x for x in country_codes if x not in remove_list]\n",
    "\n",
    "CC = list(zip(country_codes,currency_codes))\n",
    "\n",
    "len(CC)"
   ]
  },
  {
   "cell_type": "code",
   "execution_count": 96,
   "metadata": {},
   "outputs": [],
   "source": [
    "def get_currencycode(country):\n",
    "    idx = 0\n",
    "    for i in range(len(CC)):\n",
    "        if CC[i][0]==country:\n",
    "            return CC[idx][1]\n",
    "        idx+=1\n",
    "    return None       \n",
    "    \n",
    "\n",
    "udf_currency = F.udf(get_currencycode, StringType())\n",
    "\n",
    "\n",
    "df = df.withColumn('salary_currency', udf_currency(F.col('country')))"
   ]
  },
  {
   "cell_type": "code",
   "execution_count": 97,
   "metadata": {},
   "outputs": [
    {
     "name": "stdout",
     "output_type": "stream",
     "text": [
      "+------+--------------------+----------+--------------------+--------------------+--------------------+--------------------+-------------+----------------+-------------+---------------+-------------------+------------------+--------------------+--------------------+----------+-------+----+---------------+----------+----------+\n",
      "|job_id|               title|department|     company_profile|         description|        requirements|            benefits|telecommuting|has_company_logo|has_questions|employment_type|required_experience|required_education|            industry|            function|fraudulent|country|city|salary_currency|salary_min|salary_max|\n",
      "+------+--------------------+----------+--------------------+--------------------+--------------------+--------------------+-------------+----------------+-------------+---------------+-------------------+------------------+--------------------+--------------------+----------+-------+----+---------------+----------+----------+\n",
      "|     1|    marketing intern| marketing|we're food52, and...|food52, a fast-gr...|experience with c...|                null|            0|               1|            0|          other|         internship|              null|                null|           marketing|         0|     us|  ny|            usd|      null|      null|\n",
      "|     2|customer service ...|   success|90 seconds, the w...|organised - focus...|what we expect fr...|what you will get...|            0|               1|            0|      full-time|     not applicable|              null|marketing and adv...|    customer service|         0|     nz|null|            nzd|      null|      null|\n",
      "|     3|commissioning mac...|      null|valor services pr...|our client, locat...|implement pre-com...|                null|            0|               1|            0|           null|               null|              null|                null|                null|         0|     us|  ia|            usd|      null|      null|\n",
      "|     4|account executive...|     sales|our passion for i...|the company: esri...|education: bachel...|our culture is an...|            0|               1|            0|      full-time|   mid-senior level| bachelor's degree|   computer software|               sales|         0|     us|  dc|            usd|      null|      null|\n",
      "|     5| bill review manager|      null|spotsource soluti...|job title: itemiz...|qualifications:rn...|full benefits off...|            0|               1|            1|      full-time|   mid-senior level| bachelor's degree|hospital & health...|health care provider|         0|     us|  fl|            usd|      null|      null|\n",
      "+------+--------------------+----------+--------------------+--------------------+--------------------+--------------------+-------------+----------------+-------------+---------------+-------------------+------------------+--------------------+--------------------+----------+-------+----+---------------+----------+----------+\n",
      "only showing top 5 rows\n",
      "\n"
     ]
    }
   ],
   "source": [
    "from pyspark.sql.types import IntegerType\n",
    "\n",
    "def get_minRange(salary):\n",
    "    if salary is None:\n",
    "        return None\n",
    "    salary_range = salary.strip().split(sep = \"-\")\n",
    "    try: \n",
    "        r = int(salary_range[0])\n",
    "        return r \n",
    "    except ValueError: \n",
    "        return None\n",
    "\n",
    "def get_maxRange(salary):\n",
    "    if salary is None:\n",
    "        return None\n",
    "    salary_range = salary.strip().split(sep = \"-\")\n",
    "    try:\n",
    "        if(len(salary_range)==1):\n",
    "            r = int(salary_range[0])    \n",
    "        else:\n",
    "            r = int(salary_range[1])\n",
    "        return r\n",
    "    except ValueError: \n",
    "        return None\n",
    "\n",
    "udf_minRange = F.udf(get_minRange, IntegerType())\n",
    "udf_maxRange = F.udf(get_maxRange, IntegerType())\n",
    "\n",
    "df = df.withColumn('salary_min', udf_minRange(F.col('salary_range')))\n",
    "df = df.withColumn('salary_max', udf_maxRange(F.col('salary_range')))\n",
    "\n",
    "df = df.drop(F.col('salary_range'))\n",
    "\n",
    "df.show(5)"
   ]
  },
  {
   "cell_type": "code",
   "execution_count": 98,
   "metadata": {},
   "outputs": [],
   "source": [
    "URL_CURRENCIES = 'https://api.exchangerate-api.com/v4/latest/USD'\n",
    "\n",
    "curr = requests.get(URL_CURRENCIES).json()\n",
    "curr = curr['rates']\n",
    "\n",
    "curr =  {k.lower(): v for k, v in curr.items()}"
   ]
  },
  {
   "cell_type": "code",
   "execution_count": 99,
   "metadata": {},
   "outputs": [],
   "source": [
    "def get_usd(number, currency):\n",
    "    if number is None or currency is None or currency not in list(curr.keys()):\n",
    "        return None\n",
    "    else:\n",
    "        return int(number/curr[currency])\n",
    "\n",
    "udf_usd = F.udf(get_usd, IntegerType())\n",
    "\n",
    "df = df.withColumn('salary_min', udf_usd(F.col('salary_min'),F.col('salary_currency')))\n",
    "df = df.withColumn('salary_max', udf_usd(F.col('salary_max'),F.col('salary_currency')))"
   ]
  },
  {
   "cell_type": "markdown",
   "metadata": {},
   "source": [
    "### Text processing"
   ]
  },
  {
   "cell_type": "markdown",
   "metadata": {},
   "source": [
    "#### Remove extra spaces of columns with text"
   ]
  },
  {
   "cell_type": "code",
   "execution_count": 7,
   "metadata": {},
   "outputs": [],
   "source": [
    "import re"
   ]
  },
  {
   "cell_type": "code",
   "execution_count": 34,
   "metadata": {},
   "outputs": [
    {
     "name": "stdout",
     "output_type": "stream",
     "text": [
      "Row(company_profile='90 seconds, the worlds cloud video production service.90 seconds is the worlds cloud video production service enabling brands and agencies to get high quality online video content shot and produced anywhere in the world. 90 seconds makes video production fast, affordable, and all managed seamlessly in the cloud from purchase to publish.  seconds removes the hassle, cost, risk and speed issues of working with regular video production companies by managing every aspect of video projects in a beautiful online experience. with a growing global network of over 2,000 rated video professionals in over 50 countries managed by dedicated production success teams in 5 countries, 90 seconds provides a 100% success guarantee.90 seconds has produced almost 4,000 videos in over 30 countries for over 500 global brands including some of the worlds largest including paypal, l’oreal, sony and barclays and has offices in auckland, london, sydney, tokyo and singapore.| | \n"
     ]
    }
   ],
   "source": [
    "c = df.select('company_profile').collect()\n",
    "\n",
    "pattern = re.compile('http[s]?://(?:[a-zA-Z-#]|[0-9]|[$-_@.&+]|[!*\\(\\),]|(?:%[0-9a-fA-F][0-9a-fA-F]))+')\n",
    "\n",
    "text = pattern.sub('',str(c[1]))\n",
    "\n",
    "print(text.replace('\\\\xa0', ' '))\n"
   ]
  },
  {
   "cell_type": "code",
   "execution_count": 50,
   "metadata": {},
   "outputs": [
    {
     "name": "stdout",
     "output_type": "stream",
     "text": [
      " ow company profile='spotsource solutions llc is a global human capital management consulting firm headquartered in miami florida founded in january 2012 spotsource has created a fusion of innovative service offerings to meet the increasing demand of today s economy we specialize in talent acquisition staffing and executive search services across various functions and in specific industries global talent transfusion gtt services utilize best in practice qualification standards to deliver talent in temporary temporary-to-hire and permanent basis health career transition hct is a subsidiary of global talent transfusion and offers placement services specifically in the growing healthcare arena spotsource executive search ses consultants are special breed talent evangelists that understand how to advise and streamline the human resources process in the direction your organization requires for long term sustainability and success succession planning leadership development programs compensation analysis recruitment process outsourcing all customized to best suit the needs of your business we understand the demand for cost-effective solutions for your organization are you seeking a potential career transition and interested in discussing the current hiring trends and open positions? vital career consulting vcc offers career transitional services catered specifically for the job applicant including resume construction social media optimization and interview coaching address:4100 n powerline rd ste z3pompano beach fl 33073office: phone c90b6ca89acd18d9e31ea3590b4ad76605721bc372025598fe9e1e60cf428551 ' \n"
     ]
    }
   ],
   "source": [
    "import re\n",
    "\n",
    "def re_links(text):\n",
    "    return re.sub('http[s]?://(?:[a-zA-Z-#]|[0-9]|[$-_@.&+]|[!*\\(\\),]|(?:%[0-9a-fA-F][0-9a-fA-F]))+', \" \", text)\n",
    "\n",
    "def re_xa0(text):\n",
    "    return text.replace('\\\\xa0', ' ')\n",
    "\n",
    "def re_punctuations(text):\n",
    "    return re.sub(\"[^-90-A-Za-z']\", \" \" , text)\n",
    "\n",
    "def re_space(text):\n",
    "    return re.sub(\"\\s+\",\" \", text)\n",
    "\n",
    "def text_cleaning(text):\n",
    "    text = re_links(text)\n",
    "    text = re_xa0(text)\n",
    "    text = re_punctuations(text)\n",
    "    text = re_space(text)\n",
    "    return text\n",
    "\n",
    "udf_cleaning = F.udf(text_cleaning, StringType())\n",
    "    \n",
    "text_columns = ['title','department','company_profile','description','requirements','benefits','industry']\n",
    "\n",
    "print(text_cleaning(str(c[4])))\n",
    "\n",
    "#for col in text_columns:\n",
    " #   df = df.withColumn(col, udf_punc(F.col(col)))\n",
    "  #  df = df.withColumn(col, udf_space(F.col(col)))\n"
   ]
  },
  {
   "cell_type": "code",
   "execution_count": null,
   "metadata": {},
   "outputs": [],
   "source": []
  },
  {
   "cell_type": "code",
   "execution_count": null,
   "metadata": {},
   "outputs": [],
   "source": []
  },
  {
   "cell_type": "code",
   "execution_count": null,
   "metadata": {},
   "outputs": [],
   "source": []
  },
  {
   "cell_type": "markdown",
   "metadata": {},
   "source": [
    "### Apply One-hot-encoding to some columns "
   ]
  },
  {
   "cell_type": "code",
   "execution_count": 100,
   "metadata": {},
   "outputs": [
    {
     "name": "stdout",
     "output_type": "stream",
     "text": [
      " country:91\n",
      " city:325\n",
      " salary_currency:78\n",
      " required_experience:8\n",
      " required_education:14\n",
      " employment_type:6\n",
      " industry:132\n",
      " function:38\n"
     ]
    }
   ],
   "source": [
    "ohe_cols = ['country','city','salary_currency','required_experience','required_education','employment_type','industry','function']\n",
    "\n",
    "for col in ohe_cols:\n",
    "    print(f' {col}:{df.select(col).distinct().count()}')"
   ]
  },
  {
   "cell_type": "code",
   "execution_count": 101,
   "metadata": {},
   "outputs": [],
   "source": [
    "from pyspark.ml.feature import StringIndexer, OneHotEncoder\n",
    "\n",
    "for col in ohe_cols:\n",
    "    stringIndexer = StringIndexer(inputCol=col, outputCol= f\"{col}_index\").setHandleInvalid(\"keep\")\n",
    "    model = stringIndexer.fit(df)\n",
    "    indexed = model.transform(df)\n",
    "    encoder = OneHotEncoder(dropLast=False, inputCol=f\"{col}_index\", outputCol=f\"{col}_vec\")\n",
    "    encoded = encoder.fit(indexed).transform(indexed)\n",
    "    df = encoded\n",
    "    df = df.drop(F.col(f\"{col}_index\"))\n",
    "    df = df.drop(F.col(col))\n"
   ]
  },
  {
   "cell_type": "code",
   "execution_count": 102,
   "metadata": {},
   "outputs": [
    {
     "name": "stdout",
     "output_type": "stream",
     "text": [
      "+------+--------------------+----------+--------------------+--------------------+--------------------+--------------------+-------------+----------------+-------------+----------+----------+----------+--------------+-----------------+-------------------+-----------------------+----------------------+-------------------+-----------------+---------------+\n",
      "|job_id|               title|department|     company_profile|         description|        requirements|            benefits|telecommuting|has_company_logo|has_questions|fraudulent|salary_min|salary_max|   country_vec|         city_vec|salary_currency_vec|required_experience_vec|required_education_vec|employment_type_vec|     industry_vec|   function_vec|\n",
      "+------+--------------------+----------+--------------------+--------------------+--------------------+--------------------+-------------+----------------+-------------+----------+----------+----------+--------------+-----------------+-------------------+-----------------------+----------------------+-------------------+-----------------+---------------+\n",
      "|     1|    marketing intern| marketing|we're food52, and...|food52, a fast-gr...|experience with c...|                null|            0|               1|            0|         0|      null|      null|(91,[0],[1.0])|  (325,[1],[1.0])|     (78,[0],[1.0])|          (8,[5],[1.0])|       (14,[13],[1.0])|      (6,[4],[1.0])|(132,[131],[1.0])| (38,[4],[1.0])|\n",
      "|     2|customer service ...|   success|90 seconds, the w...|organised - focus...|what we expect fr...|what you will get...|            0|               1|            0|         0|      null|      null|(91,[5],[1.0])|(325,[324],[1.0])|     (78,[4],[1.0])|          (8,[3],[1.0])|       (14,[13],[1.0])|      (6,[0],[1.0])|  (132,[3],[1.0])| (38,[3],[1.0])|\n",
      "|     3|commissioning mac...|      null|valor services pr...|our client, locat...|implement pre-com...|                null|            0|               1|            0|         0|      null|      null|(91,[0],[1.0])| (325,[35],[1.0])|     (78,[0],[1.0])|          (8,[7],[1.0])|       (14,[13],[1.0])|      (6,[5],[1.0])|(132,[131],[1.0])|(38,[37],[1.0])|\n",
      "+------+--------------------+----------+--------------------+--------------------+--------------------+--------------------+-------------+----------------+-------------+----------+----------+----------+--------------+-----------------+-------------------+-----------------------+----------------------+-------------------+-----------------+---------------+\n",
      "only showing top 3 rows\n",
      "\n"
     ]
    }
   ],
   "source": [
    "df.show(3)"
   ]
  },
  {
   "cell_type": "code",
   "execution_count": null,
   "metadata": {},
   "outputs": [],
   "source": []
  }
 ],
 "metadata": {
  "kernelspec": {
   "display_name": "Python 3",
   "language": "python",
   "name": "python3"
  },
  "language_info": {
   "codemirror_mode": {
    "name": "ipython",
    "version": 3
   },
   "file_extension": ".py",
   "mimetype": "text/x-python",
   "name": "python",
   "nbconvert_exporter": "python",
   "pygments_lexer": "ipython3",
   "version": "3.8.3"
  }
 },
 "nbformat": 4,
 "nbformat_minor": 4
}
